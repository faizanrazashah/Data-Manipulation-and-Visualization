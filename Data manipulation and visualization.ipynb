{
 "cells": [
  {
   "cell_type": "code",
   "execution_count": null,
   "metadata": {},
   "outputs": [],
   "source": [
    "pip install missingno"
   ]
  },
  {
   "cell_type": "code",
   "execution_count": 1,
   "metadata": {},
   "outputs": [],
   "source": [
    "import pandas as pd"
   ]
  },
  {
   "cell_type": "code",
   "execution_count": 2,
   "metadata": {},
   "outputs": [
    {
     "data": {
      "text/html": [
       "<div>\n",
       "<style scoped>\n",
       "    .dataframe tbody tr th:only-of-type {\n",
       "        vertical-align: middle;\n",
       "    }\n",
       "\n",
       "    .dataframe tbody tr th {\n",
       "        vertical-align: top;\n",
       "    }\n",
       "\n",
       "    .dataframe thead th {\n",
       "        text-align: right;\n",
       "    }\n",
       "</style>\n",
       "<table border=\"1\" class=\"dataframe\">\n",
       "  <thead>\n",
       "    <tr style=\"text-align: right;\">\n",
       "      <th></th>\n",
       "      <th>Unnamed: 0</th>\n",
       "      <th>HOME</th>\n",
       "      <th>Unnamed: 2</th>\n",
       "      <th>Unnamed: 3</th>\n",
       "      <th>Unnamed: 4</th>\n",
       "      <th>Unnamed: 5</th>\n",
       "      <th>Unnamed: 6</th>\n",
       "      <th>Unnamed: 7</th>\n",
       "      <th>Unnamed: 8</th>\n",
       "      <th>Unnamed: 9</th>\n",
       "      <th>...</th>\n",
       "      <th>Unnamed: 53</th>\n",
       "      <th>Unnamed: 54</th>\n",
       "      <th>Unnamed: 55</th>\n",
       "      <th>Unnamed: 56</th>\n",
       "      <th>Unnamed: 57</th>\n",
       "      <th>Unnamed: 58</th>\n",
       "      <th>Unnamed: 59</th>\n",
       "      <th>Unnamed: 60</th>\n",
       "      <th>Unnamed: 61</th>\n",
       "      <th>Unnamed: 62</th>\n",
       "    </tr>\n",
       "  </thead>\n",
       "  <tbody>\n",
       "    <tr>\n",
       "      <th>0</th>\n",
       "      <td>NaN</td>\n",
       "      <td>Sr.No.</td>\n",
       "      <td>Account Manager</td>\n",
       "      <td>Type</td>\n",
       "      <td>Customer Name</td>\n",
       "      <td>Industry</td>\n",
       "      <td>Hardware\\nSoftware</td>\n",
       "      <td>Principal</td>\n",
       "      <td>Distributor \\nName</td>\n",
       "      <td>Technology</td>\n",
       "      <td>...</td>\n",
       "      <td>Remarks</td>\n",
       "      <td>Customer PO</td>\n",
       "      <td>Disti PO 1</td>\n",
       "      <td>Disti PO 2</td>\n",
       "      <td>Invoice</td>\n",
       "      <td>NaN</td>\n",
       "      <td>NaN</td>\n",
       "      <td>NaN</td>\n",
       "      <td>NaN</td>\n",
       "      <td>NaN</td>\n",
       "    </tr>\n",
       "    <tr>\n",
       "      <th>1</th>\n",
       "      <td>NaN</td>\n",
       "      <td>1</td>\n",
       "      <td>Asjad Karim</td>\n",
       "      <td>New Sale</td>\n",
       "      <td>Silk Bank</td>\n",
       "      <td>NaN</td>\n",
       "      <td>NaN</td>\n",
       "      <td>IBM</td>\n",
       "      <td>Aptec</td>\n",
       "      <td>Qradar</td>\n",
       "      <td>...</td>\n",
       "      <td>NaN</td>\n",
       "      <td>NaN</td>\n",
       "      <td>NaN</td>\n",
       "      <td>NaN</td>\n",
       "      <td>NaN</td>\n",
       "      <td>NaN</td>\n",
       "      <td>NaN</td>\n",
       "      <td>NaN</td>\n",
       "      <td>NaN</td>\n",
       "      <td>NaN</td>\n",
       "    </tr>\n",
       "    <tr>\n",
       "      <th>2</th>\n",
       "      <td>NaN</td>\n",
       "      <td>2</td>\n",
       "      <td>Asjad Karim</td>\n",
       "      <td>New Sale</td>\n",
       "      <td>Silk Bank</td>\n",
       "      <td>NaN</td>\n",
       "      <td>NaN</td>\n",
       "      <td>IBM</td>\n",
       "      <td>Aptec</td>\n",
       "      <td>Qradar</td>\n",
       "      <td>...</td>\n",
       "      <td>NaN</td>\n",
       "      <td>NaN</td>\n",
       "      <td>NaN</td>\n",
       "      <td>NaN</td>\n",
       "      <td>NaN</td>\n",
       "      <td>NaN</td>\n",
       "      <td>NaN</td>\n",
       "      <td>NaN</td>\n",
       "      <td>NaN</td>\n",
       "      <td>NaN</td>\n",
       "    </tr>\n",
       "    <tr>\n",
       "      <th>3</th>\n",
       "      <td>NaN</td>\n",
       "      <td>NaN</td>\n",
       "      <td>NaN</td>\n",
       "      <td>NaN</td>\n",
       "      <td>NaN</td>\n",
       "      <td>NaN</td>\n",
       "      <td>NaN</td>\n",
       "      <td>NaN</td>\n",
       "      <td>NaN</td>\n",
       "      <td>NaN</td>\n",
       "      <td>...</td>\n",
       "      <td>NaN</td>\n",
       "      <td>NaN</td>\n",
       "      <td>NaN</td>\n",
       "      <td>NaN</td>\n",
       "      <td>NaN</td>\n",
       "      <td>NaN</td>\n",
       "      <td>NaN</td>\n",
       "      <td>NaN</td>\n",
       "      <td>Tools and other expenses</td>\n",
       "      <td>30000.0</td>\n",
       "    </tr>\n",
       "    <tr>\n",
       "      <th>4</th>\n",
       "      <td>NaN</td>\n",
       "      <td>NaN</td>\n",
       "      <td>NaN</td>\n",
       "      <td>NaN</td>\n",
       "      <td>NaN</td>\n",
       "      <td>NaN</td>\n",
       "      <td>NaN</td>\n",
       "      <td>NaN</td>\n",
       "      <td>NaN</td>\n",
       "      <td>NaN</td>\n",
       "      <td>...</td>\n",
       "      <td>NaN</td>\n",
       "      <td>NaN</td>\n",
       "      <td>NaN</td>\n",
       "      <td>NaN</td>\n",
       "      <td>NaN</td>\n",
       "      <td>NaN</td>\n",
       "      <td>NaN</td>\n",
       "      <td>NaN</td>\n",
       "      <td>Bank Guarantee Fees</td>\n",
       "      <td>143300.0</td>\n",
       "    </tr>\n",
       "    <tr>\n",
       "      <th>5</th>\n",
       "      <td>NaN</td>\n",
       "      <td>NaN</td>\n",
       "      <td>NaN</td>\n",
       "      <td>NaN</td>\n",
       "      <td>NaN</td>\n",
       "      <td>NaN</td>\n",
       "      <td>NaN</td>\n",
       "      <td>NaN</td>\n",
       "      <td>NaN</td>\n",
       "      <td>NaN</td>\n",
       "      <td>...</td>\n",
       "      <td>NaN</td>\n",
       "      <td>NaN</td>\n",
       "      <td>NaN</td>\n",
       "      <td>NaN</td>\n",
       "      <td>NaN</td>\n",
       "      <td>NaN</td>\n",
       "      <td>NaN</td>\n",
       "      <td>NaN</td>\n",
       "      <td>Tools Procured</td>\n",
       "      <td>19510.0</td>\n",
       "    </tr>\n",
       "  </tbody>\n",
       "</table>\n",
       "<p>6 rows × 63 columns</p>\n",
       "</div>"
      ],
      "text/plain": [
       "   Unnamed: 0    HOME       Unnamed: 2 Unnamed: 3     Unnamed: 4 Unnamed: 5  \\\n",
       "0         NaN  Sr.No.  Account Manager       Type  Customer Name   Industry   \n",
       "1         NaN       1      Asjad Karim   New Sale      Silk Bank        NaN   \n",
       "2         NaN       2      Asjad Karim   New Sale      Silk Bank        NaN   \n",
       "3         NaN     NaN              NaN        NaN            NaN        NaN   \n",
       "4         NaN     NaN              NaN        NaN            NaN        NaN   \n",
       "5         NaN     NaN              NaN        NaN            NaN        NaN   \n",
       "\n",
       "           Unnamed: 6  Unnamed: 7          Unnamed: 8  Unnamed: 9  ...  \\\n",
       "0  Hardware\\nSoftware  Principal   Distributor \\nName  Technology  ...   \n",
       "1                 NaN         IBM               Aptec      Qradar  ...   \n",
       "2                 NaN         IBM               Aptec      Qradar  ...   \n",
       "3                 NaN         NaN                 NaN         NaN  ...   \n",
       "4                 NaN         NaN                 NaN         NaN  ...   \n",
       "5                 NaN         NaN                 NaN         NaN  ...   \n",
       "\n",
       "  Unnamed: 53  Unnamed: 54 Unnamed: 55 Unnamed: 56 Unnamed: 57 Unnamed: 58  \\\n",
       "0     Remarks  Customer PO  Disti PO 1  Disti PO 2     Invoice         NaN   \n",
       "1         NaN          NaN         NaN         NaN         NaN         NaN   \n",
       "2         NaN          NaN         NaN         NaN         NaN         NaN   \n",
       "3         NaN          NaN         NaN         NaN         NaN         NaN   \n",
       "4         NaN          NaN         NaN         NaN         NaN         NaN   \n",
       "5         NaN          NaN         NaN         NaN         NaN         NaN   \n",
       "\n",
       "  Unnamed: 59 Unnamed: 60               Unnamed: 61 Unnamed: 62  \n",
       "0         NaN         NaN                       NaN         NaN  \n",
       "1         NaN         NaN                       NaN         NaN  \n",
       "2         NaN         NaN                       NaN         NaN  \n",
       "3         NaN         NaN  Tools and other expenses     30000.0  \n",
       "4         NaN         NaN       Bank Guarantee Fees    143300.0  \n",
       "5         NaN         NaN            Tools Procured     19510.0  \n",
       "\n",
       "[6 rows x 63 columns]"
      ]
     },
     "execution_count": 2,
     "metadata": {},
     "output_type": "execute_result"
    }
   ],
   "source": [
    "#col_names=['1st Calculated Value', '2nd Total Calculated value', 'Gross profit', 'Net profit']\n",
    "Total_sales_asjad=pd.read_excel('D:\\\\Downloads\\\\20200601-Total Sales.xlsx', sheet_name=\"Asjad\", parse_dates=['Unnamed: 11'])\n",
    "Total_sales_asjad"
   ]
  },
  {
   "cell_type": "code",
   "execution_count": 3,
   "metadata": {},
   "outputs": [],
   "source": [
    "pd.set_option('display.max_columns', None)"
   ]
  },
  {
   "cell_type": "code",
   "execution_count": 4,
   "metadata": {},
   "outputs": [
    {
     "data": {
      "text/html": [
       "<div>\n",
       "<style scoped>\n",
       "    .dataframe tbody tr th:only-of-type {\n",
       "        vertical-align: middle;\n",
       "    }\n",
       "\n",
       "    .dataframe tbody tr th {\n",
       "        vertical-align: top;\n",
       "    }\n",
       "\n",
       "    .dataframe thead th {\n",
       "        text-align: right;\n",
       "    }\n",
       "</style>\n",
       "<table border=\"1\" class=\"dataframe\">\n",
       "  <thead>\n",
       "    <tr style=\"text-align: right;\">\n",
       "      <th></th>\n",
       "      <th>Unnamed: 0</th>\n",
       "      <th>HOME</th>\n",
       "      <th>Unnamed: 2</th>\n",
       "      <th>Unnamed: 3</th>\n",
       "      <th>Unnamed: 4</th>\n",
       "      <th>Unnamed: 5</th>\n",
       "      <th>Unnamed: 6</th>\n",
       "      <th>Unnamed: 7</th>\n",
       "      <th>Unnamed: 8</th>\n",
       "      <th>Unnamed: 9</th>\n",
       "      <th>Unnamed: 10</th>\n",
       "      <th>Unnamed: 11</th>\n",
       "      <th>Unnamed: 12</th>\n",
       "      <th>Unnamed: 13</th>\n",
       "      <th>Unnamed: 14</th>\n",
       "      <th>Unnamed: 15</th>\n",
       "      <th>Unnamed: 16</th>\n",
       "      <th>Unnamed: 17</th>\n",
       "      <th>Unnamed: 18</th>\n",
       "      <th>Unnamed: 19</th>\n",
       "      <th>Unnamed: 20</th>\n",
       "      <th>Unnamed: 21</th>\n",
       "      <th>Unnamed: 22</th>\n",
       "      <th>Unnamed: 23</th>\n",
       "      <th>Unnamed: 24</th>\n",
       "      <th>Unnamed: 25</th>\n",
       "      <th>Unnamed: 26</th>\n",
       "      <th>Unnamed: 27</th>\n",
       "      <th>Unnamed: 28</th>\n",
       "      <th>Unnamed: 29</th>\n",
       "      <th>Unnamed: 30</th>\n",
       "      <th>Unnamed: 31</th>\n",
       "      <th>Unnamed: 32</th>\n",
       "      <th>Unnamed: 33</th>\n",
       "      <th>Unnamed: 34</th>\n",
       "      <th>Unnamed: 35</th>\n",
       "      <th>Unnamed: 36</th>\n",
       "      <th>Unnamed: 37</th>\n",
       "      <th>Unnamed: 38</th>\n",
       "      <th>Unnamed: 39</th>\n",
       "      <th>Unnamed: 40</th>\n",
       "      <th>Unnamed: 41</th>\n",
       "      <th>Unnamed: 42</th>\n",
       "      <th>Unnamed: 43</th>\n",
       "      <th>Unnamed: 44</th>\n",
       "      <th>Unnamed: 45</th>\n",
       "      <th>Unnamed: 46</th>\n",
       "      <th>Unnamed: 47</th>\n",
       "      <th>Unnamed: 48</th>\n",
       "      <th>Unnamed: 49</th>\n",
       "      <th>Unnamed: 50</th>\n",
       "      <th>Unnamed: 51</th>\n",
       "      <th>Unnamed: 52</th>\n",
       "      <th>Unnamed: 53</th>\n",
       "      <th>Unnamed: 54</th>\n",
       "      <th>Unnamed: 55</th>\n",
       "      <th>Unnamed: 56</th>\n",
       "      <th>Unnamed: 57</th>\n",
       "      <th>Unnamed: 58</th>\n",
       "      <th>Unnamed: 59</th>\n",
       "      <th>Unnamed: 60</th>\n",
       "      <th>Unnamed: 61</th>\n",
       "      <th>Unnamed: 62</th>\n",
       "    </tr>\n",
       "  </thead>\n",
       "  <tbody>\n",
       "    <tr>\n",
       "      <th>0</th>\n",
       "      <td>NaN</td>\n",
       "      <td>Sr.No.</td>\n",
       "      <td>Account Manager</td>\n",
       "      <td>Type</td>\n",
       "      <td>Customer Name</td>\n",
       "      <td>Industry</td>\n",
       "      <td>Hardware\\nSoftware</td>\n",
       "      <td>Principal</td>\n",
       "      <td>Distributor \\nName</td>\n",
       "      <td>Technology</td>\n",
       "      <td>Details of Technology/Solution</td>\n",
       "      <td>Month</td>\n",
       "      <td>Quarter</td>\n",
       "      <td>Customer-PO No</td>\n",
       "      <td>Customer\\nPO Date</td>\n",
       "      <td>Customer\\nPO Value</td>\n",
       "      <td>Qunatity</td>\n",
       "      <td>SLA Support</td>\n",
       "      <td>Training</td>\n",
       "      <td>Deployment</td>\n",
       "      <td>Advance\\n(%)\\nCust.</td>\n",
       "      <td>After Delivery (%) Cust.</td>\n",
       "      <td>Delivery Timeline</td>\n",
       "      <td>1st Invoice #</td>\n",
       "      <td>1st Invoice Date</td>\n",
       "      <td>1st Invoiced Amt</td>\n",
       "      <td>2nd Invoice #</td>\n",
       "      <td>2nd Invoice Date</td>\n",
       "      <td>2nd Invoiced \\nAmt</td>\n",
       "      <td>Project Sign-OFF Date</td>\n",
       "      <td>(1)\\nPO Value w/o GST</td>\n",
       "      <td>(1)\\nGST%</td>\n",
       "      <td>(1)\\nGST</td>\n",
       "      <td>(1)\\nPO Value with GST</td>\n",
       "      <td>(1)\\nWHT %</td>\n",
       "      <td>(1)\\nWHT</td>\n",
       "      <td>(1)\\nCalculated Value</td>\n",
       "      <td>(2)\\nPO Value w/o GST</td>\n",
       "      <td>(2)\\nImport Tax %</td>\n",
       "      <td>(2)\\nImport Tax</td>\n",
       "      <td>(2)\\nFreight Charges</td>\n",
       "      <td>(2)\\nExpenses</td>\n",
       "      <td>(2)\\nGST%</td>\n",
       "      <td>(2)\\nGST</td>\n",
       "      <td>(2)\\nTotal PO Value with GST</td>\n",
       "      <td>(2)\\nWHT %</td>\n",
       "      <td>(2)\\nWHT</td>\n",
       "      <td>(2)\\nTotal Calculated Value</td>\n",
       "      <td>(3)\\nGross Profit</td>\n",
       "      <td>(4)\\nOther Expenses</td>\n",
       "      <td>(5)\\nMarketing Fund</td>\n",
       "      <td>(6)\\nPenalty</td>\n",
       "      <td>(7)\\nNet Profit</td>\n",
       "      <td>Remarks</td>\n",
       "      <td>Customer PO</td>\n",
       "      <td>Disti PO 1</td>\n",
       "      <td>Disti PO 2</td>\n",
       "      <td>Invoice</td>\n",
       "      <td>NaN</td>\n",
       "      <td>NaN</td>\n",
       "      <td>NaN</td>\n",
       "      <td>NaN</td>\n",
       "      <td>NaN</td>\n",
       "    </tr>\n",
       "    <tr>\n",
       "      <th>1</th>\n",
       "      <td>NaN</td>\n",
       "      <td>1</td>\n",
       "      <td>Asjad Karim</td>\n",
       "      <td>New Sale</td>\n",
       "      <td>Silk Bank</td>\n",
       "      <td>NaN</td>\n",
       "      <td>NaN</td>\n",
       "      <td>IBM</td>\n",
       "      <td>Aptec</td>\n",
       "      <td>Qradar</td>\n",
       "      <td>Qradar Renewal</td>\n",
       "      <td>Mar-20</td>\n",
       "      <td>Q3-2020</td>\n",
       "      <td>5748</td>\n",
       "      <td>2020-03-05 00:00:00</td>\n",
       "      <td>3778698</td>\n",
       "      <td>1</td>\n",
       "      <td>NaN</td>\n",
       "      <td>NaN</td>\n",
       "      <td>NaN</td>\n",
       "      <td>NaN</td>\n",
       "      <td>NaN</td>\n",
       "      <td>NaN</td>\n",
       "      <td>NaN</td>\n",
       "      <td>NaN</td>\n",
       "      <td>NaN</td>\n",
       "      <td>NaN</td>\n",
       "      <td>NaN</td>\n",
       "      <td>NaN</td>\n",
       "      <td>NaN</td>\n",
       "      <td>3.34392e+06</td>\n",
       "      <td>0.13</td>\n",
       "      <td>434710</td>\n",
       "      <td>3.77863e+06</td>\n",
       "      <td>0.03</td>\n",
       "      <td>113359</td>\n",
       "      <td>3.66527e+06</td>\n",
       "      <td>2098250</td>\n",
       "      <td>NaN</td>\n",
       "      <td>0</td>\n",
       "      <td>0</td>\n",
       "      <td>0</td>\n",
       "      <td>0.13</td>\n",
       "      <td>272772</td>\n",
       "      <td>2.37102e+06</td>\n",
       "      <td>0.03</td>\n",
       "      <td>71130.7</td>\n",
       "      <td>2.44215e+06</td>\n",
       "      <td>1.22312e+06</td>\n",
       "      <td>NaN</td>\n",
       "      <td>770000</td>\n",
       "      <td>NaN</td>\n",
       "      <td>453120</td>\n",
       "      <td>NaN</td>\n",
       "      <td>NaN</td>\n",
       "      <td>NaN</td>\n",
       "      <td>NaN</td>\n",
       "      <td>NaN</td>\n",
       "      <td>NaN</td>\n",
       "      <td>NaN</td>\n",
       "      <td>NaN</td>\n",
       "      <td>NaN</td>\n",
       "      <td>NaN</td>\n",
       "    </tr>\n",
       "    <tr>\n",
       "      <th>2</th>\n",
       "      <td>NaN</td>\n",
       "      <td>2</td>\n",
       "      <td>Asjad Karim</td>\n",
       "      <td>New Sale</td>\n",
       "      <td>Silk Bank</td>\n",
       "      <td>NaN</td>\n",
       "      <td>NaN</td>\n",
       "      <td>IBM</td>\n",
       "      <td>Aptec</td>\n",
       "      <td>Qradar</td>\n",
       "      <td>Qradar Upgradation</td>\n",
       "      <td>Mar-20</td>\n",
       "      <td>Q3-2020</td>\n",
       "      <td>5754</td>\n",
       "      <td>2020-03-05 00:00:00</td>\n",
       "      <td>5645332</td>\n",
       "      <td>1</td>\n",
       "      <td>NaN</td>\n",
       "      <td>NaN</td>\n",
       "      <td>NaN</td>\n",
       "      <td>NaN</td>\n",
       "      <td>NaN</td>\n",
       "      <td>NaN</td>\n",
       "      <td>NaN</td>\n",
       "      <td>NaN</td>\n",
       "      <td>NaN</td>\n",
       "      <td>NaN</td>\n",
       "      <td>NaN</td>\n",
       "      <td>NaN</td>\n",
       "      <td>NaN</td>\n",
       "      <td>4.99576e+06</td>\n",
       "      <td>0.13</td>\n",
       "      <td>649449</td>\n",
       "      <td>5.64521e+06</td>\n",
       "      <td>0.03</td>\n",
       "      <td>169356</td>\n",
       "      <td>5.47586e+06</td>\n",
       "      <td>4.23196e+06</td>\n",
       "      <td>NaN</td>\n",
       "      <td>0</td>\n",
       "      <td>0</td>\n",
       "      <td>0</td>\n",
       "      <td>0.13</td>\n",
       "      <td>550155</td>\n",
       "      <td>4.78212e+06</td>\n",
       "      <td>0.03</td>\n",
       "      <td>143464</td>\n",
       "      <td>4.92558e+06</td>\n",
       "      <td>550274</td>\n",
       "      <td>NaN</td>\n",
       "      <td>NaN</td>\n",
       "      <td>NaN</td>\n",
       "      <td>550274</td>\n",
       "      <td>NaN</td>\n",
       "      <td>NaN</td>\n",
       "      <td>NaN</td>\n",
       "      <td>NaN</td>\n",
       "      <td>NaN</td>\n",
       "      <td>NaN</td>\n",
       "      <td>NaN</td>\n",
       "      <td>NaN</td>\n",
       "      <td>NaN</td>\n",
       "      <td>NaN</td>\n",
       "    </tr>\n",
       "    <tr>\n",
       "      <th>3</th>\n",
       "      <td>NaN</td>\n",
       "      <td>NaN</td>\n",
       "      <td>NaN</td>\n",
       "      <td>NaN</td>\n",
       "      <td>NaN</td>\n",
       "      <td>NaN</td>\n",
       "      <td>NaN</td>\n",
       "      <td>NaN</td>\n",
       "      <td>NaN</td>\n",
       "      <td>NaN</td>\n",
       "      <td>NaN</td>\n",
       "      <td>NaN</td>\n",
       "      <td>NaN</td>\n",
       "      <td>NaN</td>\n",
       "      <td>NaN</td>\n",
       "      <td>9424030</td>\n",
       "      <td>NaN</td>\n",
       "      <td>NaN</td>\n",
       "      <td>NaN</td>\n",
       "      <td>NaN</td>\n",
       "      <td>NaN</td>\n",
       "      <td>NaN</td>\n",
       "      <td>NaN</td>\n",
       "      <td>NaN</td>\n",
       "      <td>NaN</td>\n",
       "      <td>NaN</td>\n",
       "      <td>NaN</td>\n",
       "      <td>NaN</td>\n",
       "      <td>NaN</td>\n",
       "      <td>NaN</td>\n",
       "      <td>8.33969e+06</td>\n",
       "      <td>NaN</td>\n",
       "      <td>NaN</td>\n",
       "      <td>NaN</td>\n",
       "      <td>NaN</td>\n",
       "      <td>NaN</td>\n",
       "      <td>NaN</td>\n",
       "      <td>NaN</td>\n",
       "      <td>NaN</td>\n",
       "      <td>NaN</td>\n",
       "      <td>NaN</td>\n",
       "      <td>NaN</td>\n",
       "      <td>NaN</td>\n",
       "      <td>NaN</td>\n",
       "      <td>NaN</td>\n",
       "      <td>NaN</td>\n",
       "      <td>NaN</td>\n",
       "      <td>NaN</td>\n",
       "      <td>1.77339e+06</td>\n",
       "      <td>NaN</td>\n",
       "      <td>NaN</td>\n",
       "      <td>NaN</td>\n",
       "      <td>1.00339e+06</td>\n",
       "      <td>NaN</td>\n",
       "      <td>NaN</td>\n",
       "      <td>NaN</td>\n",
       "      <td>NaN</td>\n",
       "      <td>NaN</td>\n",
       "      <td>NaN</td>\n",
       "      <td>NaN</td>\n",
       "      <td>NaN</td>\n",
       "      <td>Tools and other expenses</td>\n",
       "      <td>30000.0</td>\n",
       "    </tr>\n",
       "    <tr>\n",
       "      <th>4</th>\n",
       "      <td>NaN</td>\n",
       "      <td>NaN</td>\n",
       "      <td>NaN</td>\n",
       "      <td>NaN</td>\n",
       "      <td>NaN</td>\n",
       "      <td>NaN</td>\n",
       "      <td>NaN</td>\n",
       "      <td>NaN</td>\n",
       "      <td>NaN</td>\n",
       "      <td>NaN</td>\n",
       "      <td>NaN</td>\n",
       "      <td>NaN</td>\n",
       "      <td>NaN</td>\n",
       "      <td>NaN</td>\n",
       "      <td>NaN</td>\n",
       "      <td>NaN</td>\n",
       "      <td>NaN</td>\n",
       "      <td>NaN</td>\n",
       "      <td>NaN</td>\n",
       "      <td>NaN</td>\n",
       "      <td>NaN</td>\n",
       "      <td>NaN</td>\n",
       "      <td>NaN</td>\n",
       "      <td>NaN</td>\n",
       "      <td>NaN</td>\n",
       "      <td>NaN</td>\n",
       "      <td>NaN</td>\n",
       "      <td>NaN</td>\n",
       "      <td>NaN</td>\n",
       "      <td>NaN</td>\n",
       "      <td>NaN</td>\n",
       "      <td>NaN</td>\n",
       "      <td>NaN</td>\n",
       "      <td>NaN</td>\n",
       "      <td>NaN</td>\n",
       "      <td>NaN</td>\n",
       "      <td>NaN</td>\n",
       "      <td>NaN</td>\n",
       "      <td>NaN</td>\n",
       "      <td>NaN</td>\n",
       "      <td>NaN</td>\n",
       "      <td>NaN</td>\n",
       "      <td>NaN</td>\n",
       "      <td>NaN</td>\n",
       "      <td>NaN</td>\n",
       "      <td>NaN</td>\n",
       "      <td>NaN</td>\n",
       "      <td>NaN</td>\n",
       "      <td>NaN</td>\n",
       "      <td>NaN</td>\n",
       "      <td>NaN</td>\n",
       "      <td>NaN</td>\n",
       "      <td>NaN</td>\n",
       "      <td>NaN</td>\n",
       "      <td>NaN</td>\n",
       "      <td>NaN</td>\n",
       "      <td>NaN</td>\n",
       "      <td>NaN</td>\n",
       "      <td>NaN</td>\n",
       "      <td>NaN</td>\n",
       "      <td>NaN</td>\n",
       "      <td>Bank Guarantee Fees</td>\n",
       "      <td>143300.0</td>\n",
       "    </tr>\n",
       "    <tr>\n",
       "      <th>5</th>\n",
       "      <td>NaN</td>\n",
       "      <td>NaN</td>\n",
       "      <td>NaN</td>\n",
       "      <td>NaN</td>\n",
       "      <td>NaN</td>\n",
       "      <td>NaN</td>\n",
       "      <td>NaN</td>\n",
       "      <td>NaN</td>\n",
       "      <td>NaN</td>\n",
       "      <td>NaN</td>\n",
       "      <td>NaN</td>\n",
       "      <td>NaN</td>\n",
       "      <td>NaN</td>\n",
       "      <td>NaN</td>\n",
       "      <td>NaN</td>\n",
       "      <td>NaN</td>\n",
       "      <td>NaN</td>\n",
       "      <td>NaN</td>\n",
       "      <td>NaN</td>\n",
       "      <td>NaN</td>\n",
       "      <td>NaN</td>\n",
       "      <td>NaN</td>\n",
       "      <td>NaN</td>\n",
       "      <td>NaN</td>\n",
       "      <td>NaN</td>\n",
       "      <td>NaN</td>\n",
       "      <td>NaN</td>\n",
       "      <td>NaN</td>\n",
       "      <td>NaN</td>\n",
       "      <td>NaN</td>\n",
       "      <td>NaN</td>\n",
       "      <td>NaN</td>\n",
       "      <td>NaN</td>\n",
       "      <td>NaN</td>\n",
       "      <td>NaN</td>\n",
       "      <td>NaN</td>\n",
       "      <td>NaN</td>\n",
       "      <td>NaN</td>\n",
       "      <td>NaN</td>\n",
       "      <td>NaN</td>\n",
       "      <td>NaN</td>\n",
       "      <td>NaN</td>\n",
       "      <td>NaN</td>\n",
       "      <td>NaN</td>\n",
       "      <td>NaN</td>\n",
       "      <td>NaN</td>\n",
       "      <td>NaN</td>\n",
       "      <td>NaN</td>\n",
       "      <td>NaN</td>\n",
       "      <td>NaN</td>\n",
       "      <td>NaN</td>\n",
       "      <td>NaN</td>\n",
       "      <td>NaN</td>\n",
       "      <td>NaN</td>\n",
       "      <td>NaN</td>\n",
       "      <td>NaN</td>\n",
       "      <td>NaN</td>\n",
       "      <td>NaN</td>\n",
       "      <td>NaN</td>\n",
       "      <td>NaN</td>\n",
       "      <td>NaN</td>\n",
       "      <td>Tools Procured</td>\n",
       "      <td>19510.0</td>\n",
       "    </tr>\n",
       "  </tbody>\n",
       "</table>\n",
       "</div>"
      ],
      "text/plain": [
       "   Unnamed: 0    HOME       Unnamed: 2 Unnamed: 3     Unnamed: 4 Unnamed: 5  \\\n",
       "0         NaN  Sr.No.  Account Manager       Type  Customer Name   Industry   \n",
       "1         NaN       1      Asjad Karim   New Sale      Silk Bank        NaN   \n",
       "2         NaN       2      Asjad Karim   New Sale      Silk Bank        NaN   \n",
       "3         NaN     NaN              NaN        NaN            NaN        NaN   \n",
       "4         NaN     NaN              NaN        NaN            NaN        NaN   \n",
       "5         NaN     NaN              NaN        NaN            NaN        NaN   \n",
       "\n",
       "           Unnamed: 6  Unnamed: 7          Unnamed: 8  Unnamed: 9  \\\n",
       "0  Hardware\\nSoftware  Principal   Distributor \\nName  Technology   \n",
       "1                 NaN         IBM               Aptec      Qradar   \n",
       "2                 NaN         IBM               Aptec      Qradar   \n",
       "3                 NaN         NaN                 NaN         NaN   \n",
       "4                 NaN         NaN                 NaN         NaN   \n",
       "5                 NaN         NaN                 NaN         NaN   \n",
       "\n",
       "                      Unnamed: 10 Unnamed: 11 Unnamed: 12     Unnamed: 13  \\\n",
       "0  Details of Technology/Solution       Month     Quarter  Customer-PO No   \n",
       "1                  Qradar Renewal      Mar-20     Q3-2020            5748   \n",
       "2              Qradar Upgradation      Mar-20     Q3-2020            5754   \n",
       "3                             NaN         NaN         NaN             NaN   \n",
       "4                             NaN         NaN         NaN             NaN   \n",
       "5                             NaN         NaN         NaN             NaN   \n",
       "\n",
       "           Unnamed: 14         Unnamed: 15 Unnamed: 16  Unnamed: 17  \\\n",
       "0    Customer\\nPO Date  Customer\\nPO Value    Qunatity  SLA Support   \n",
       "1  2020-03-05 00:00:00             3778698           1          NaN   \n",
       "2  2020-03-05 00:00:00             5645332           1          NaN   \n",
       "3                  NaN             9424030         NaN          NaN   \n",
       "4                  NaN                 NaN         NaN          NaN   \n",
       "5                  NaN                 NaN         NaN          NaN   \n",
       "\n",
       "  Unnamed: 18 Unnamed: 19          Unnamed: 20               Unnamed: 21  \\\n",
       "0    Training  Deployment  Advance\\n(%)\\nCust.  After Delivery (%) Cust.   \n",
       "1         NaN         NaN                  NaN                       NaN   \n",
       "2         NaN         NaN                  NaN                       NaN   \n",
       "3         NaN         NaN                  NaN                       NaN   \n",
       "4         NaN         NaN                  NaN                       NaN   \n",
       "5         NaN         NaN                  NaN                       NaN   \n",
       "\n",
       "         Unnamed: 22    Unnamed: 23       Unnamed: 24       Unnamed: 25  \\\n",
       "0  Delivery Timeline  1st Invoice #  1st Invoice Date  1st Invoiced Amt   \n",
       "1                NaN            NaN               NaN               NaN   \n",
       "2                NaN            NaN               NaN               NaN   \n",
       "3                NaN            NaN               NaN               NaN   \n",
       "4                NaN            NaN               NaN               NaN   \n",
       "5                NaN            NaN               NaN               NaN   \n",
       "\n",
       "     Unnamed: 26       Unnamed: 27         Unnamed: 28            Unnamed: 29  \\\n",
       "0  2nd Invoice #  2nd Invoice Date  2nd Invoiced \\nAmt  Project Sign-OFF Date   \n",
       "1            NaN               NaN                 NaN                    NaN   \n",
       "2            NaN               NaN                 NaN                    NaN   \n",
       "3            NaN               NaN                 NaN                    NaN   \n",
       "4            NaN               NaN                 NaN                    NaN   \n",
       "5            NaN               NaN                 NaN                    NaN   \n",
       "\n",
       "             Unnamed: 30 Unnamed: 31 Unnamed: 32             Unnamed: 33  \\\n",
       "0  (1)\\nPO Value w/o GST   (1)\\nGST%    (1)\\nGST  (1)\\nPO Value with GST   \n",
       "1            3.34392e+06        0.13      434710             3.77863e+06   \n",
       "2            4.99576e+06        0.13      649449             5.64521e+06   \n",
       "3            8.33969e+06         NaN         NaN                     NaN   \n",
       "4                    NaN         NaN         NaN                     NaN   \n",
       "5                    NaN         NaN         NaN                     NaN   \n",
       "\n",
       "  Unnamed: 34 Unnamed: 35            Unnamed: 36            Unnamed: 37  \\\n",
       "0  (1)\\nWHT %    (1)\\nWHT  (1)\\nCalculated Value  (2)\\nPO Value w/o GST   \n",
       "1        0.03      113359            3.66527e+06                2098250   \n",
       "2        0.03      169356            5.47586e+06            4.23196e+06   \n",
       "3         NaN         NaN                    NaN                    NaN   \n",
       "4         NaN         NaN                    NaN                    NaN   \n",
       "5         NaN         NaN                    NaN                    NaN   \n",
       "\n",
       "         Unnamed: 38       Unnamed: 39           Unnamed: 40    Unnamed: 41  \\\n",
       "0  (2)\\nImport Tax %  (2)\\nImport Tax   (2)\\nFreight Charges  (2)\\nExpenses   \n",
       "1                NaN                 0                     0              0   \n",
       "2                NaN                 0                     0              0   \n",
       "3                NaN               NaN                   NaN            NaN   \n",
       "4                NaN               NaN                   NaN            NaN   \n",
       "5                NaN               NaN                   NaN            NaN   \n",
       "\n",
       "  Unnamed: 42 Unnamed: 43                   Unnamed: 44 Unnamed: 45  \\\n",
       "0   (2)\\nGST%    (2)\\nGST  (2)\\nTotal PO Value with GST  (2)\\nWHT %   \n",
       "1        0.13      272772                   2.37102e+06        0.03   \n",
       "2        0.13      550155                   4.78212e+06        0.03   \n",
       "3         NaN         NaN                           NaN         NaN   \n",
       "4         NaN         NaN                           NaN         NaN   \n",
       "5         NaN         NaN                           NaN         NaN   \n",
       "\n",
       "  Unnamed: 46                   Unnamed: 47        Unnamed: 48  \\\n",
       "0    (2)\\nWHT  (2)\\nTotal Calculated Value   (3)\\nGross Profit   \n",
       "1     71130.7                   2.44215e+06        1.22312e+06   \n",
       "2      143464                   4.92558e+06             550274   \n",
       "3         NaN                           NaN        1.77339e+06   \n",
       "4         NaN                           NaN                NaN   \n",
       "5         NaN                           NaN                NaN   \n",
       "\n",
       "           Unnamed: 49          Unnamed: 50   Unnamed: 51      Unnamed: 52  \\\n",
       "0  (4)\\nOther Expenses  (5)\\nMarketing Fund  (6)\\nPenalty  (7)\\nNet Profit   \n",
       "1                  NaN               770000           NaN           453120   \n",
       "2                  NaN                  NaN           NaN           550274   \n",
       "3                  NaN                  NaN           NaN      1.00339e+06   \n",
       "4                  NaN                  NaN           NaN              NaN   \n",
       "5                  NaN                  NaN           NaN              NaN   \n",
       "\n",
       "  Unnamed: 53  Unnamed: 54 Unnamed: 55 Unnamed: 56 Unnamed: 57  Unnamed: 58  \\\n",
       "0     Remarks  Customer PO  Disti PO 1  Disti PO 2     Invoice          NaN   \n",
       "1         NaN          NaN         NaN         NaN         NaN          NaN   \n",
       "2         NaN          NaN         NaN         NaN         NaN          NaN   \n",
       "3         NaN          NaN         NaN         NaN         NaN          NaN   \n",
       "4         NaN          NaN         NaN         NaN         NaN          NaN   \n",
       "5         NaN          NaN         NaN         NaN         NaN          NaN   \n",
       "\n",
       "   Unnamed: 59  Unnamed: 60               Unnamed: 61  Unnamed: 62  \n",
       "0          NaN          NaN                       NaN          NaN  \n",
       "1          NaN          NaN                       NaN          NaN  \n",
       "2          NaN          NaN                       NaN          NaN  \n",
       "3          NaN          NaN  Tools and other expenses      30000.0  \n",
       "4          NaN          NaN       Bank Guarantee Fees     143300.0  \n",
       "5          NaN          NaN            Tools Procured      19510.0  "
      ]
     },
     "execution_count": 4,
     "metadata": {},
     "output_type": "execute_result"
    }
   ],
   "source": [
    "Total_sales_asjad"
   ]
  },
  {
   "cell_type": "code",
   "execution_count": 5,
   "metadata": {},
   "outputs": [],
   "source": [
    "df=Total_sales_asjad.iloc[1:3, [11,36,47,48,50,52]]"
   ]
  },
  {
   "cell_type": "code",
   "execution_count": 6,
   "metadata": {},
   "outputs": [
    {
     "data": {
      "text/html": [
       "<div>\n",
       "<style scoped>\n",
       "    .dataframe tbody tr th:only-of-type {\n",
       "        vertical-align: middle;\n",
       "    }\n",
       "\n",
       "    .dataframe tbody tr th {\n",
       "        vertical-align: top;\n",
       "    }\n",
       "\n",
       "    .dataframe thead th {\n",
       "        text-align: right;\n",
       "    }\n",
       "</style>\n",
       "<table border=\"1\" class=\"dataframe\">\n",
       "  <thead>\n",
       "    <tr style=\"text-align: right;\">\n",
       "      <th></th>\n",
       "      <th>Unnamed: 11</th>\n",
       "      <th>Unnamed: 36</th>\n",
       "      <th>Unnamed: 47</th>\n",
       "      <th>Unnamed: 48</th>\n",
       "      <th>Unnamed: 50</th>\n",
       "      <th>Unnamed: 52</th>\n",
       "    </tr>\n",
       "  </thead>\n",
       "  <tbody>\n",
       "    <tr>\n",
       "      <th>1</th>\n",
       "      <td>Mar-20</td>\n",
       "      <td>3.66527e+06</td>\n",
       "      <td>2.44215e+06</td>\n",
       "      <td>1.22312e+06</td>\n",
       "      <td>770000</td>\n",
       "      <td>453120</td>\n",
       "    </tr>\n",
       "    <tr>\n",
       "      <th>2</th>\n",
       "      <td>Mar-20</td>\n",
       "      <td>5.47586e+06</td>\n",
       "      <td>4.92558e+06</td>\n",
       "      <td>550274</td>\n",
       "      <td>NaN</td>\n",
       "      <td>550274</td>\n",
       "    </tr>\n",
       "  </tbody>\n",
       "</table>\n",
       "</div>"
      ],
      "text/plain": [
       "  Unnamed: 11  Unnamed: 36  Unnamed: 47  Unnamed: 48 Unnamed: 50 Unnamed: 52\n",
       "1      Mar-20  3.66527e+06  2.44215e+06  1.22312e+06      770000      453120\n",
       "2      Mar-20  5.47586e+06  4.92558e+06       550274         NaN      550274"
      ]
     },
     "execution_count": 6,
     "metadata": {},
     "output_type": "execute_result"
    }
   ],
   "source": [
    "df"
   ]
  },
  {
   "cell_type": "code",
   "execution_count": 7,
   "metadata": {},
   "outputs": [],
   "source": [
    "#col_names=['1st Calculated Value', '2nd Total Calculated value', 'Gross profit', 'Net profit']\n",
    "#df=pd.read_excel(\"C:\\\\Users\\\\Mutex System\\\\Downloads\\\\20200601-Total Sales.xlsx\", sheet_name=\"Asjad\", names=col_names,index_col=0, usecols='AK','AV','AW','BA')\n",
    "#df"
   ]
  },
  {
   "cell_type": "code",
   "execution_count": 8,
   "metadata": {},
   "outputs": [],
   "source": [
    "df.columns=['Month', '1st Calculated Value', '2nd Total Calculated value', 'Gross profit', 'Marketing fund', 'Net profit']"
   ]
  },
  {
   "cell_type": "code",
   "execution_count": 9,
   "metadata": {},
   "outputs": [
    {
     "data": {
      "text/html": [
       "<div>\n",
       "<style scoped>\n",
       "    .dataframe tbody tr th:only-of-type {\n",
       "        vertical-align: middle;\n",
       "    }\n",
       "\n",
       "    .dataframe tbody tr th {\n",
       "        vertical-align: top;\n",
       "    }\n",
       "\n",
       "    .dataframe thead th {\n",
       "        text-align: right;\n",
       "    }\n",
       "</style>\n",
       "<table border=\"1\" class=\"dataframe\">\n",
       "  <thead>\n",
       "    <tr style=\"text-align: right;\">\n",
       "      <th></th>\n",
       "      <th>Month</th>\n",
       "      <th>1st Calculated Value</th>\n",
       "      <th>2nd Total Calculated value</th>\n",
       "      <th>Gross profit</th>\n",
       "      <th>Marketing fund</th>\n",
       "      <th>Net profit</th>\n",
       "    </tr>\n",
       "  </thead>\n",
       "  <tbody>\n",
       "    <tr>\n",
       "      <th>1</th>\n",
       "      <td>Mar-20</td>\n",
       "      <td>3.66527e+06</td>\n",
       "      <td>2.44215e+06</td>\n",
       "      <td>1.22312e+06</td>\n",
       "      <td>770000</td>\n",
       "      <td>453120</td>\n",
       "    </tr>\n",
       "    <tr>\n",
       "      <th>2</th>\n",
       "      <td>Mar-20</td>\n",
       "      <td>5.47586e+06</td>\n",
       "      <td>4.92558e+06</td>\n",
       "      <td>550274</td>\n",
       "      <td>NaN</td>\n",
       "      <td>550274</td>\n",
       "    </tr>\n",
       "  </tbody>\n",
       "</table>\n",
       "</div>"
      ],
      "text/plain": [
       "    Month 1st Calculated Value 2nd Total Calculated value Gross profit  \\\n",
       "1  Mar-20          3.66527e+06                2.44215e+06  1.22312e+06   \n",
       "2  Mar-20          5.47586e+06                4.92558e+06       550274   \n",
       "\n",
       "  Marketing fund Net profit  \n",
       "1         770000     453120  \n",
       "2            NaN     550274  "
      ]
     },
     "execution_count": 9,
     "metadata": {},
     "output_type": "execute_result"
    }
   ],
   "source": [
    "df"
   ]
  },
  {
   "cell_type": "code",
   "execution_count": 10,
   "metadata": {},
   "outputs": [
    {
     "data": {
      "text/html": [
       "<div>\n",
       "<style scoped>\n",
       "    .dataframe tbody tr th:only-of-type {\n",
       "        vertical-align: middle;\n",
       "    }\n",
       "\n",
       "    .dataframe tbody tr th {\n",
       "        vertical-align: top;\n",
       "    }\n",
       "\n",
       "    .dataframe thead th {\n",
       "        text-align: right;\n",
       "    }\n",
       "</style>\n",
       "<table border=\"1\" class=\"dataframe\">\n",
       "  <thead>\n",
       "    <tr style=\"text-align: right;\">\n",
       "      <th></th>\n",
       "      <th>Month</th>\n",
       "      <th>1st Calculated Value</th>\n",
       "      <th>2nd Total Calculated value</th>\n",
       "      <th>Gross profit</th>\n",
       "      <th>Marketing fund</th>\n",
       "      <th>Net profit</th>\n",
       "    </tr>\n",
       "  </thead>\n",
       "  <tbody>\n",
       "    <tr>\n",
       "      <th>1</th>\n",
       "      <td>False</td>\n",
       "      <td>False</td>\n",
       "      <td>False</td>\n",
       "      <td>False</td>\n",
       "      <td>False</td>\n",
       "      <td>False</td>\n",
       "    </tr>\n",
       "    <tr>\n",
       "      <th>2</th>\n",
       "      <td>False</td>\n",
       "      <td>False</td>\n",
       "      <td>False</td>\n",
       "      <td>False</td>\n",
       "      <td>True</td>\n",
       "      <td>False</td>\n",
       "    </tr>\n",
       "  </tbody>\n",
       "</table>\n",
       "</div>"
      ],
      "text/plain": [
       "   Month  1st Calculated Value  2nd Total Calculated value  Gross profit  \\\n",
       "1  False                 False                       False         False   \n",
       "2  False                 False                       False         False   \n",
       "\n",
       "   Marketing fund  Net profit  \n",
       "1           False       False  \n",
       "2            True       False  "
      ]
     },
     "execution_count": 10,
     "metadata": {},
     "output_type": "execute_result"
    }
   ],
   "source": [
    "df.isna()"
   ]
  },
  {
   "cell_type": "code",
   "execution_count": 11,
   "metadata": {},
   "outputs": [
    {
     "data": {
      "text/plain": [
       "Month                         0\n",
       "1st Calculated Value          0\n",
       "2nd Total Calculated value    0\n",
       "Gross profit                  0\n",
       "Marketing fund                1\n",
       "Net profit                    0\n",
       "dtype: int64"
      ]
     },
     "execution_count": 11,
     "metadata": {},
     "output_type": "execute_result"
    }
   ],
   "source": [
    "df.isna().sum()"
   ]
  },
  {
   "cell_type": "code",
   "execution_count": null,
   "metadata": {},
   "outputs": [],
   "source": []
  },
  {
   "cell_type": "code",
   "execution_count": 20,
   "metadata": {},
   "outputs": [
    {
     "data": {
      "image/png": "[encoded data removed]",
      "text/plain": [
       "<Figure size 1800x720 with 2 Axes>"
      ]
     },
     "metadata": {
      "needs_background": "light"
     },
     "output_type": "display_data"
    }
   ],
   "source": [
    "import missingno as msno \n",
    "import matplotlib.pyplot as plt  \n",
    "# Visualize missingness \n",
    "msno.matrix(df) \n",
    "plt.show() "
   ]
  },
  {
   "cell_type": "code",
   "execution_count": 21,
   "metadata": {},
   "outputs": [],
   "source": [
    "# Isolate missing and complete values aside \n",
    "missing = df[df['Marketing fund'].isna()] \n",
    "complete = df[~df['Marketing fund'].isna()] "
   ]
  },
  {
   "cell_type": "code",
   "execution_count": 22,
   "metadata": {},
   "outputs": [
    {
     "data": {
      "text/html": [
       "<div>\n",
       "<style scoped>\n",
       "    .dataframe tbody tr th:only-of-type {\n",
       "        vertical-align: middle;\n",
       "    }\n",
       "\n",
       "    .dataframe tbody tr th {\n",
       "        vertical-align: top;\n",
       "    }\n",
       "\n",
       "    .dataframe thead th {\n",
       "        text-align: right;\n",
       "    }\n",
       "</style>\n",
       "<table border=\"1\" class=\"dataframe\">\n",
       "  <thead>\n",
       "    <tr style=\"text-align: right;\">\n",
       "      <th></th>\n",
       "      <th>1st Calculated Value</th>\n",
       "      <th>2nd Total Calculated value</th>\n",
       "      <th>Gross profit</th>\n",
       "      <th>Marketing fund</th>\n",
       "      <th>Net profit</th>\n",
       "    </tr>\n",
       "  </thead>\n",
       "  <tbody>\n",
       "    <tr>\n",
       "      <th>count</th>\n",
       "      <td>1.000</td>\n",
       "      <td>1.000</td>\n",
       "      <td>1.000</td>\n",
       "      <td>1.000</td>\n",
       "      <td>1.000</td>\n",
       "    </tr>\n",
       "    <tr>\n",
       "      <th>mean</th>\n",
       "      <td>3665273.036</td>\n",
       "      <td>2442153.175</td>\n",
       "      <td>1223119.861</td>\n",
       "      <td>770000.000</td>\n",
       "      <td>453119.861</td>\n",
       "    </tr>\n",
       "    <tr>\n",
       "      <th>std</th>\n",
       "      <td>nan</td>\n",
       "      <td>nan</td>\n",
       "      <td>nan</td>\n",
       "      <td>nan</td>\n",
       "      <td>nan</td>\n",
       "    </tr>\n",
       "    <tr>\n",
       "      <th>min</th>\n",
       "      <td>3665273.036</td>\n",
       "      <td>2442153.175</td>\n",
       "      <td>1223119.861</td>\n",
       "      <td>770000.000</td>\n",
       "      <td>453119.861</td>\n",
       "    </tr>\n",
       "    <tr>\n",
       "      <th>25%</th>\n",
       "      <td>3665273.036</td>\n",
       "      <td>2442153.175</td>\n",
       "      <td>1223119.861</td>\n",
       "      <td>770000.000</td>\n",
       "      <td>453119.861</td>\n",
       "    </tr>\n",
       "    <tr>\n",
       "      <th>50%</th>\n",
       "      <td>3665273.036</td>\n",
       "      <td>2442153.175</td>\n",
       "      <td>1223119.861</td>\n",
       "      <td>770000.000</td>\n",
       "      <td>453119.861</td>\n",
       "    </tr>\n",
       "    <tr>\n",
       "      <th>75%</th>\n",
       "      <td>3665273.036</td>\n",
       "      <td>2442153.175</td>\n",
       "      <td>1223119.861</td>\n",
       "      <td>770000.000</td>\n",
       "      <td>453119.861</td>\n",
       "    </tr>\n",
       "    <tr>\n",
       "      <th>max</th>\n",
       "      <td>3665273.036</td>\n",
       "      <td>2442153.175</td>\n",
       "      <td>1223119.861</td>\n",
       "      <td>770000.000</td>\n",
       "      <td>453119.861</td>\n",
       "    </tr>\n",
       "  </tbody>\n",
       "</table>\n",
       "</div>"
      ],
      "text/plain": [
       "       1st Calculated Value  2nd Total Calculated value  Gross profit  \\\n",
       "count                 1.000                       1.000         1.000   \n",
       "mean            3665273.036                 2442153.175   1223119.861   \n",
       "std                     nan                         nan           nan   \n",
       "min             3665273.036                 2442153.175   1223119.861   \n",
       "25%             3665273.036                 2442153.175   1223119.861   \n",
       "50%             3665273.036                 2442153.175   1223119.861   \n",
       "75%             3665273.036                 2442153.175   1223119.861   \n",
       "max             3665273.036                 2442153.175   1223119.861   \n",
       "\n",
       "       Marketing fund  Net profit  \n",
       "count           1.000       1.000  \n",
       "mean       770000.000  453119.861  \n",
       "std               nan         nan  \n",
       "min        770000.000  453119.861  \n",
       "25%        770000.000  453119.861  \n",
       "50%        770000.000  453119.861  \n",
       "75%        770000.000  453119.861  \n",
       "max        770000.000  453119.861  "
      ]
     },
     "execution_count": 22,
     "metadata": {},
     "output_type": "execute_result"
    }
   ],
   "source": [
    "complete.describe()"
   ]
  },
  {
   "cell_type": "code",
   "execution_count": 23,
   "metadata": {},
   "outputs": [
    {
     "data": {
      "text/html": [
       "<div>\n",
       "<style scoped>\n",
       "    .dataframe tbody tr th:only-of-type {\n",
       "        vertical-align: middle;\n",
       "    }\n",
       "\n",
       "    .dataframe tbody tr th {\n",
       "        vertical-align: top;\n",
       "    }\n",
       "\n",
       "    .dataframe thead th {\n",
       "        text-align: right;\n",
       "    }\n",
       "</style>\n",
       "<table border=\"1\" class=\"dataframe\">\n",
       "  <thead>\n",
       "    <tr style=\"text-align: right;\">\n",
       "      <th></th>\n",
       "      <th>1st Calculated Value</th>\n",
       "      <th>2nd Total Calculated value</th>\n",
       "      <th>Gross profit</th>\n",
       "      <th>Marketing fund</th>\n",
       "      <th>Net profit</th>\n",
       "    </tr>\n",
       "  </thead>\n",
       "  <tbody>\n",
       "    <tr>\n",
       "      <th>count</th>\n",
       "      <td>1.000</td>\n",
       "      <td>1.000</td>\n",
       "      <td>1.000</td>\n",
       "      <td>0.000</td>\n",
       "      <td>1.000</td>\n",
       "    </tr>\n",
       "    <tr>\n",
       "      <th>mean</th>\n",
       "      <td>5475855.912</td>\n",
       "      <td>4925581.875</td>\n",
       "      <td>550274.037</td>\n",
       "      <td>nan</td>\n",
       "      <td>550274.037</td>\n",
       "    </tr>\n",
       "    <tr>\n",
       "      <th>std</th>\n",
       "      <td>nan</td>\n",
       "      <td>nan</td>\n",
       "      <td>nan</td>\n",
       "      <td>nan</td>\n",
       "      <td>nan</td>\n",
       "    </tr>\n",
       "    <tr>\n",
       "      <th>min</th>\n",
       "      <td>5475855.912</td>\n",
       "      <td>4925581.875</td>\n",
       "      <td>550274.037</td>\n",
       "      <td>nan</td>\n",
       "      <td>550274.037</td>\n",
       "    </tr>\n",
       "    <tr>\n",
       "      <th>25%</th>\n",
       "      <td>5475855.912</td>\n",
       "      <td>4925581.875</td>\n",
       "      <td>550274.037</td>\n",
       "      <td>nan</td>\n",
       "      <td>550274.037</td>\n",
       "    </tr>\n",
       "    <tr>\n",
       "      <th>50%</th>\n",
       "      <td>5475855.912</td>\n",
       "      <td>4925581.875</td>\n",
       "      <td>550274.037</td>\n",
       "      <td>nan</td>\n",
       "      <td>550274.037</td>\n",
       "    </tr>\n",
       "    <tr>\n",
       "      <th>75%</th>\n",
       "      <td>5475855.912</td>\n",
       "      <td>4925581.875</td>\n",
       "      <td>550274.037</td>\n",
       "      <td>nan</td>\n",
       "      <td>550274.037</td>\n",
       "    </tr>\n",
       "    <tr>\n",
       "      <th>max</th>\n",
       "      <td>5475855.912</td>\n",
       "      <td>4925581.875</td>\n",
       "      <td>550274.037</td>\n",
       "      <td>nan</td>\n",
       "      <td>550274.037</td>\n",
       "    </tr>\n",
       "  </tbody>\n",
       "</table>\n",
       "</div>"
      ],
      "text/plain": [
       "       1st Calculated Value  2nd Total Calculated value  Gross profit  \\\n",
       "count                 1.000                       1.000         1.000   \n",
       "mean            5475855.912                 4925581.875    550274.037   \n",
       "std                     nan                         nan           nan   \n",
       "min             5475855.912                 4925581.875    550274.037   \n",
       "25%             5475855.912                 4925581.875    550274.037   \n",
       "50%             5475855.912                 4925581.875    550274.037   \n",
       "75%             5475855.912                 4925581.875    550274.037   \n",
       "max             5475855.912                 4925581.875    550274.037   \n",
       "\n",
       "       Marketing fund  Net profit  \n",
       "count           0.000       1.000  \n",
       "mean              nan  550274.037  \n",
       "std               nan         nan  \n",
       "min               nan  550274.037  \n",
       "25%               nan  550274.037  \n",
       "50%               nan  550274.037  \n",
       "75%               nan  550274.037  \n",
       "max               nan  550274.037  "
      ]
     },
     "execution_count": 23,
     "metadata": {},
     "output_type": "execute_result"
    }
   ],
   "source": [
    "missing.describe()"
   ]
  },
  {
   "cell_type": "code",
   "execution_count": 24,
   "metadata": {},
   "outputs": [
    {
     "data": {
      "text/html": [
       "<div>\n",
       "<style scoped>\n",
       "    .dataframe tbody tr th:only-of-type {\n",
       "        vertical-align: middle;\n",
       "    }\n",
       "\n",
       "    .dataframe tbody tr th {\n",
       "        vertical-align: top;\n",
       "    }\n",
       "\n",
       "    .dataframe thead th {\n",
       "        text-align: right;\n",
       "    }\n",
       "</style>\n",
       "<table border=\"1\" class=\"dataframe\">\n",
       "  <thead>\n",
       "    <tr style=\"text-align: right;\">\n",
       "      <th></th>\n",
       "      <th>Month</th>\n",
       "      <th>1st Calculated Value</th>\n",
       "      <th>2nd Total Calculated value</th>\n",
       "      <th>Gross profit</th>\n",
       "      <th>Marketing fund</th>\n",
       "      <th>Net profit</th>\n",
       "    </tr>\n",
       "  </thead>\n",
       "  <tbody>\n",
       "    <tr>\n",
       "      <th>1</th>\n",
       "      <td>Mar-20</td>\n",
       "      <td>3665273.036</td>\n",
       "      <td>2442153.175</td>\n",
       "      <td>1223119.861</td>\n",
       "      <td>770000.000</td>\n",
       "      <td>453119.861</td>\n",
       "    </tr>\n",
       "  </tbody>\n",
       "</table>\n",
       "</div>"
      ],
      "text/plain": [
       "    Month  1st Calculated Value  2nd Total Calculated value  Gross profit  \\\n",
       "1  Mar-20           3665273.036                 2442153.175   1223119.861   \n",
       "\n",
       "   Marketing fund  Net profit  \n",
       "1      770000.000  453119.861  "
      ]
     },
     "execution_count": 24,
     "metadata": {},
     "output_type": "execute_result"
    }
   ],
   "source": [
    "complete"
   ]
  },
  {
   "cell_type": "code",
   "execution_count": null,
   "metadata": {},
   "outputs": [],
   "source": []
  },
  {
   "cell_type": "code",
   "execution_count": 25,
   "metadata": {},
   "outputs": [
    {
     "data": {
      "text/plain": [
       "Month                          object\n",
       "1st Calculated Value          float64\n",
       "2nd Total Calculated value    float64\n",
       "Gross profit                  float64\n",
       "Marketing fund                float64\n",
       "Net profit                    float64\n",
       "dtype: object"
      ]
     },
     "execution_count": 25,
     "metadata": {},
     "output_type": "execute_result"
    }
   ],
   "source": [
    "df.dtypes"
   ]
  },
  {
   "cell_type": "code",
   "execution_count": 26,
   "metadata": {},
   "outputs": [
    {
     "name": "stdout",
     "output_type": "stream",
     "text": [
      "<class 'pandas.core.frame.DataFrame'>\n",
      "RangeIndex: 2 entries, 1 to 2\n",
      "Data columns (total 6 columns):\n",
      " #   Column                      Non-Null Count  Dtype  \n",
      "---  ------                      --------------  -----  \n",
      " 0   Month                       2 non-null      object \n",
      " 1   1st Calculated Value        2 non-null      float64\n",
      " 2   2nd Total Calculated value  2 non-null      float64\n",
      " 3   Gross profit                2 non-null      float64\n",
      " 4   Marketing fund              1 non-null      float64\n",
      " 5   Net profit                  2 non-null      float64\n",
      "dtypes: float64(5), object(1)\n",
      "memory usage: 228.0+ bytes\n"
     ]
    }
   ],
   "source": [
    "df.info()"
   ]
  },
  {
   "cell_type": "code",
   "execution_count": 27,
   "metadata": {},
   "outputs": [
    {
     "data": {
      "text/plain": [
       "9141128.94772"
      ]
     },
     "execution_count": 27,
     "metadata": {},
     "output_type": "execute_result"
    }
   ],
   "source": [
    "df['1st Calculated Value'].sum()"
   ]
  },
  {
   "cell_type": "code",
   "execution_count": 28,
   "metadata": {},
   "outputs": [
    {
     "data": {
      "text/plain": [
       "7367735.050368"
      ]
     },
     "execution_count": 28,
     "metadata": {},
     "output_type": "execute_result"
    }
   ],
   "source": [
    "df['2nd Total Calculated value'].sum()"
   ]
  },
  {
   "cell_type": "code",
   "execution_count": 29,
   "metadata": {},
   "outputs": [
    {
     "data": {
      "text/plain": [
       "1773393.8973520002"
      ]
     },
     "execution_count": 29,
     "metadata": {},
     "output_type": "execute_result"
    }
   ],
   "source": [
    "df['Gross profit'].sum()"
   ]
  },
  {
   "cell_type": "code",
   "execution_count": 30,
   "metadata": {},
   "outputs": [
    {
     "data": {
      "text/plain": [
       "1003393.8973520002"
      ]
     },
     "execution_count": 30,
     "metadata": {},
     "output_type": "execute_result"
    }
   ],
   "source": [
    "df['Net profit'].sum()"
   ]
  },
  {
   "cell_type": "code",
   "execution_count": 31,
   "metadata": {},
   "outputs": [],
   "source": [
    "pd.set_option('display.float_format', lambda x: '%.3f' % x) #remove exponential sign"
   ]
  },
  {
   "cell_type": "code",
   "execution_count": 32,
   "metadata": {},
   "outputs": [
    {
     "data": {
      "text/html": [
       "<div>\n",
       "<style scoped>\n",
       "    .dataframe tbody tr th:only-of-type {\n",
       "        vertical-align: middle;\n",
       "    }\n",
       "\n",
       "    .dataframe tbody tr th {\n",
       "        vertical-align: top;\n",
       "    }\n",
       "\n",
       "    .dataframe thead th {\n",
       "        text-align: right;\n",
       "    }\n",
       "</style>\n",
       "<table border=\"1\" class=\"dataframe\">\n",
       "  <thead>\n",
       "    <tr style=\"text-align: right;\">\n",
       "      <th></th>\n",
       "      <th>Month</th>\n",
       "      <th>1st Calculated Value</th>\n",
       "      <th>2nd Total Calculated value</th>\n",
       "      <th>Gross profit</th>\n",
       "      <th>Marketing fund</th>\n",
       "      <th>Net profit</th>\n",
       "    </tr>\n",
       "  </thead>\n",
       "  <tbody>\n",
       "    <tr>\n",
       "      <th>1</th>\n",
       "      <td>Mar-20</td>\n",
       "      <td>3665273.036</td>\n",
       "      <td>2442153.175</td>\n",
       "      <td>1223119.861</td>\n",
       "      <td>770000.000</td>\n",
       "      <td>453119.861</td>\n",
       "    </tr>\n",
       "    <tr>\n",
       "      <th>2</th>\n",
       "      <td>Mar-20</td>\n",
       "      <td>5475855.912</td>\n",
       "      <td>4925581.875</td>\n",
       "      <td>550274.037</td>\n",
       "      <td>nan</td>\n",
       "      <td>550274.037</td>\n",
       "    </tr>\n",
       "  </tbody>\n",
       "</table>\n",
       "</div>"
      ],
      "text/plain": [
       "    Month  1st Calculated Value  2nd Total Calculated value  Gross profit  \\\n",
       "1  Mar-20           3665273.036                 2442153.175   1223119.861   \n",
       "2  Mar-20           5475855.912                 4925581.875    550274.037   \n",
       "\n",
       "   Marketing fund  Net profit  \n",
       "1      770000.000  453119.861  \n",
       "2             nan  550274.037  "
      ]
     },
     "execution_count": 32,
     "metadata": {},
     "output_type": "execute_result"
    }
   ],
   "source": [
    "df"
   ]
  },
  {
   "cell_type": "code",
   "execution_count": null,
   "metadata": {},
   "outputs": [],
   "source": []
  },
  {
   "cell_type": "code",
   "execution_count": 33,
   "metadata": {
    "scrolled": true
   },
   "outputs": [
    {
     "data": {
      "text/plain": [
       "Month                          object\n",
       "1st Calculated Value          float64\n",
       "2nd Total Calculated value    float64\n",
       "Gross profit                  float64\n",
       "Marketing fund                float64\n",
       "Net profit                    float64\n",
       "dtype: object"
      ]
     },
     "execution_count": 33,
     "metadata": {},
     "output_type": "execute_result"
    }
   ],
   "source": [
    "df.dtypes"
   ]
  },
  {
   "cell_type": "code",
   "execution_count": 34,
   "metadata": {},
   "outputs": [],
   "source": [
    "#df['1st Calculated Value']=df['1st Calculated Value'].replace({'nan':'null'})\n",
    "#df['Net profit']=df['Net profit'].astype('float').replace({'nan':'0'})\n",
    "#df['2nd Calculated Value']=df['2nd Calculated Value'].astype('float').replace({'nan':'0'})\n",
    "#df['Gross profit']=df['Gross profit'].astype('float').replace({'nan':'0'})\n",
    "#assert df['Net profit'].dtypes =='float'.replace({'nan':'0'})\n",
    "#print(df[['1st Calculated Value','2nd Calculated Value', 'Gross profit','Net profit']])\n",
    "#n=['1st Calculated Value', '2nd Total Calculated value', 'Gross profit', 'Net profit']\n",
    "#a=0\n",
    "#while a<=2:\n",
    "    \n",
    "    #df[n] = df[n].astype('float')\n",
    "    #a+=1\n",
    "df['2nd Total Calculated value'] = df['2nd Total Calculated value'].astype('float')\n",
    "df['Net profit'] = df['Net profit'].astype('float')\n",
    "df['Gross profit'] = df['Gross profit'].astype('float')\n",
    "df['Marketing fund'] = df['Marketing fund'].astype('float')"
   ]
  },
  {
   "cell_type": "code",
   "execution_count": 35,
   "metadata": {},
   "outputs": [
    {
     "data": {
      "text/plain": [
       "Month                          object\n",
       "1st Calculated Value          float64\n",
       "2nd Total Calculated value    float64\n",
       "Gross profit                  float64\n",
       "Marketing fund                float64\n",
       "Net profit                    float64\n",
       "dtype: object"
      ]
     },
     "execution_count": 35,
     "metadata": {},
     "output_type": "execute_result"
    }
   ],
   "source": [
    "df.dtypes"
   ]
  },
  {
   "cell_type": "code",
   "execution_count": 36,
   "metadata": {},
   "outputs": [
    {
     "data": {
      "image/png": "[encoded data removed]",
      "text/plain": [
       "<Figure size 720x720 with 1 Axes>"
      ]
     },
     "metadata": {
      "needs_background": "light"
     },
     "output_type": "display_data"
    }
   ],
   "source": [
    "df.plot( marker='o')\n",
    "plt.gcf().set_size_inches((10, 10))"
   ]
  },
  {
   "cell_type": "code",
   "execution_count": null,
   "metadata": {},
   "outputs": [],
   "source": [
    "duplicates=df.duplicated()\n",
    "print(duplicates)"
   ]
  },
  {
   "cell_type": "code",
   "execution_count": null,
   "metadata": {},
   "outputs": [],
   "source": [
    "df.describe()"
   ]
  },
  {
   "cell_type": "code",
   "execution_count": null,
   "metadata": {},
   "outputs": [],
   "source": [
    "df.mean()"
   ]
  },
  {
   "cell_type": "code",
   "execution_count": null,
   "metadata": {},
   "outputs": [],
   "source": [
    "df.isna()"
   ]
  },
  {
   "cell_type": "code",
   "execution_count": null,
   "metadata": {},
   "outputs": [],
   "source": [
    "df.isna().sum()"
   ]
  },
  {
   "cell_type": "code",
   "execution_count": null,
   "metadata": {},
   "outputs": [],
   "source": [
    "import missingno as msno \n",
    "import matplotlib.pyplot as plt  \n",
    "# Visualize missingness \n",
    "msno.matrix(df) \n",
    "plt.show() "
   ]
  },
  {
   "cell_type": "code",
   "execution_count": null,
   "metadata": {},
   "outputs": [],
   "source": [
    "# Isolate missing and complete values aside \n",
    "missing = df[df['Marketing fund'].isna()] \n",
    "complete = df[~df['Marketing fund'].isna()] "
   ]
  },
  {
   "cell_type": "code",
   "execution_count": null,
   "metadata": {},
   "outputs": [],
   "source": [
    "complete.describe()"
   ]
  },
  {
   "cell_type": "code",
   "execution_count": null,
   "metadata": {},
   "outputs": [],
   "source": [
    "missing.describe()"
   ]
  },
  {
   "cell_type": "code",
   "execution_count": null,
   "metadata": {},
   "outputs": [],
   "source": []
  },
  {
   "cell_type": "code",
   "execution_count": 37,
   "metadata": {},
   "outputs": [
    {
     "data": {
      "image/png": "[encoded data removed]",
      "text/plain": [
       "<Figure size 720x720 with 1 Axes>"
      ]
     },
     "metadata": {
      "needs_background": "light"
     },
     "output_type": "display_data"
    }
   ],
   "source": [
    "import matplotlib.pyplot as plt \n",
    "plt.hist(df['Gross profit'], bins=20) \n",
    "plt.title('Average Gross profit')\n",
    "plt.gcf().set_size_inches((10, 10))"
   ]
  },
  {
   "cell_type": "code",
   "execution_count": 38,
   "metadata": {},
   "outputs": [
    {
     "data": {
      "image/png": "[encoded data removed]",
      "text/plain": [
       "<Figure size 720x720 with 1 Axes>"
      ]
     },
     "metadata": {
      "needs_background": "light"
     },
     "output_type": "display_data"
    }
   ],
   "source": [
    "import matplotlib.pyplot as plt \n",
    "plt.hist(df['1st Calculated Value']) \n",
    "plt.title('1st Calculated Value')\n",
    "plt.gcf().set_size_inches((10, 10))"
   ]
  },
  {
   "cell_type": "code",
   "execution_count": null,
   "metadata": {},
   "outputs": [],
   "source": [
    "df"
   ]
  },
  {
   "cell_type": "code",
   "execution_count": null,
   "metadata": {},
   "outputs": [],
   "source": [
    "# Import matplotlib \n",
    "import matplotlib.pyplot as plt  \n",
    "# Create scatter plot \n",
    "plt.scatter(x = 'Gross profit', y = 'Net profit', data= df, s=100)  \n",
    "# Create title, xlabel and ylabel \n",
    "plt.title('Overall profit') \n",
    "plt.xlabel('Gross profit') \n",
    "plt.ylabel('Net profit')  \n",
    "plt.gcf().set_size_inches((20, 20))\n",
    "# Show plot \n",
    "plt.show()"
   ]
  },
  {
   "cell_type": "code",
   "execution_count": null,
   "metadata": {},
   "outputs": [],
   "source": [
    "Tools_and_other_expenses=[30000.000,'nan']\n",
    "Bank_guarantee_fees=[143300.000,'nan']\n",
    "Tools_procured=[19510.000,'nan']\n",
    "data=df.assign(**{'Tools & other expenses': Tools_and_other_expenses, 'Bank gaurantee fees': Bank_guarantee_fees, 'Tools procured': Tools_procured })"
   ]
  },
  {
   "cell_type": "code",
   "execution_count": null,
   "metadata": {},
   "outputs": [],
   "source": [
    "data"
   ]
  },
  {
   "cell_type": "code",
   "execution_count": null,
   "metadata": {},
   "outputs": [],
   "source": [
    "data.dtypes"
   ]
  },
  {
   "cell_type": "code",
   "execution_count": null,
   "metadata": {},
   "outputs": [],
   "source": [
    "data['Tools & other expenses'] = data['Tools & other expenses'].astype('float')\n",
    "data['Bank gaurantee fees'] = data['Bank gaurantee fees'].astype('float')\n",
    "data['Tools procured'] = data['Tools procured'].astype('float')"
   ]
  },
  {
   "cell_type": "code",
   "execution_count": null,
   "metadata": {},
   "outputs": [],
   "source": [
    "data.dtypes"
   ]
  },
  {
   "cell_type": "code",
   "execution_count": null,
   "metadata": {},
   "outputs": [],
   "source": [
    "Total_sales_uzair=pd.read_excel(\"C:\\\\Users\\\\Mutex System\\\\Downloads\\\\20200601-Total Sales.xlsx\", sheet_name=\"Uzair\",parse_date=True)\n",
    "Total_sales_uzair"
   ]
  },
  {
   "cell_type": "code",
   "execution_count": null,
   "metadata": {},
   "outputs": [],
   "source": [
    "df_uzair=Total_sales_uzair.iloc[2:17, [11,36,47,48,50,52]]"
   ]
  },
  {
   "cell_type": "code",
   "execution_count": null,
   "metadata": {},
   "outputs": [],
   "source": [
    "df_uzair"
   ]
  },
  {
   "cell_type": "code",
   "execution_count": null,
   "metadata": {},
   "outputs": [],
   "source": [
    "df_uzair.columns=['Month', '1st Calculated Value (USD)', '2nd Total Calculated value (USD)', 'Gross profit (USD)', 'Marketing fund (USD)', 'Net profit (USD)']"
   ]
  },
  {
   "cell_type": "code",
   "execution_count": null,
   "metadata": {},
   "outputs": [],
   "source": [
    "df_uzair"
   ]
  },
  {
   "cell_type": "code",
   "execution_count": null,
   "metadata": {},
   "outputs": [],
   "source": [
    "df_uzair.dtypes"
   ]
  },
  {
   "cell_type": "code",
   "execution_count": null,
   "metadata": {},
   "outputs": [],
   "source": [
    "df_uzair['1st Calculated Value (USD)'] = df_uzair['1st Calculated Value (USD)'].astype('float')\n",
    "df_uzair['2nd Total Calculated value (USD)'] = df_uzair['2nd Total Calculated value (USD)'].astype('float')\n",
    "df_uzair['Net profit (USD)'] = df_uzair['Net profit (USD)'].astype('float')\n",
    "df_uzair['Gross profit (USD)'] = df_uzair['Gross profit (USD)'].astype('float')\n",
    "df_uzair['Marketing fund (USD)'] = df_uzair['Marketing fund (USD)'].astype('float')"
   ]
  },
  {
   "cell_type": "code",
   "execution_count": null,
   "metadata": {},
   "outputs": [],
   "source": [
    "df_uzair.dtypes"
   ]
  },
  {
   "cell_type": "code",
   "execution_count": null,
   "metadata": {},
   "outputs": [],
   "source": [
    "df_uzair['1st Calculated Value (USD)'].sum()"
   ]
  },
  {
   "cell_type": "code",
   "execution_count": null,
   "metadata": {},
   "outputs": [],
   "source": [
    "df_uzair['2nd Total Calculated value (USD)'].sum()"
   ]
  },
  {
   "cell_type": "code",
   "execution_count": null,
   "metadata": {},
   "outputs": [],
   "source": [
    "df_uzair['Net profit (USD)'].sum()"
   ]
  },
  {
   "cell_type": "code",
   "execution_count": null,
   "metadata": {},
   "outputs": [],
   "source": [
    "df_uzair['Gross profit (USD)'].sum()"
   ]
  },
  {
   "cell_type": "code",
   "execution_count": null,
   "metadata": {},
   "outputs": [],
   "source": [
    "df_uzair['Marketing fund (USD)'].sum()"
   ]
  },
  {
   "cell_type": "code",
   "execution_count": null,
   "metadata": {},
   "outputs": [],
   "source": [
    "df_uzair.describe()"
   ]
  },
  {
   "cell_type": "code",
   "execution_count": null,
   "metadata": {},
   "outputs": [],
   "source": [
    "import matplotlib.pyplot as plt \n",
    "plt.hist(df_uzair['1st Calculated Value (USD)']) \n",
    "plt.title('Calculated Value (USD)')\n",
    "plt.gcf().set_size_inches((10, 10))"
   ]
  },
  {
   "cell_type": "code",
   "execution_count": null,
   "metadata": {},
   "outputs": [],
   "source": [
    "import numpy as np\n",
    "plt.hist(df_uzair['2nd Total Calculated value (USD)']) \n",
    "plt.title('Total Calculated Value (USD)')\n",
    "plt.gcf().set_size_inches((10, 10))"
   ]
  },
  {
   "cell_type": "code",
   "execution_count": null,
   "metadata": {},
   "outputs": [],
   "source": [
    "plt.hist(df_uzair['Gross profit (USD)']) \n",
    "plt.title('Total Gross profit (USD)')\n",
    "plt.gcf().set_size_inches((10, 10))"
   ]
  },
  {
   "cell_type": "code",
   "execution_count": null,
   "metadata": {},
   "outputs": [],
   "source": [
    "plt.hist(df_uzair['Net profit (USD)']) \n",
    "plt.title('Total Net profit (USD)')\n",
    "plt.gcf().set_size_inches((10, 10))"
   ]
  },
  {
   "cell_type": "code",
   "execution_count": null,
   "metadata": {},
   "outputs": [],
   "source": [
    "plt.hist(df_uzair['Marketing fund (USD)']) \n",
    "plt.title('Total marketing fund (USD)')\n",
    "plt.gcf().set_size_inches((10, 10))"
   ]
  },
  {
   "cell_type": "code",
   "execution_count": null,
   "metadata": {},
   "outputs": [],
   "source": [
    "# Create scatter plot \n",
    "plt.scatter(x = '1st Calculated Value (USD)', y = '2nd Total Calculated value (USD)', data= df_uzair, s=50)  \n",
    "# Create title, xlabel and ylabel \n",
    "plt.title('Overall Calculation') \n",
    "plt.xlabel('1st Calculated Value (USD)') \n",
    "plt.ylabel('2nd Total Calculated value (USD)')  \n",
    "plt.gcf().set_size_inches((20, 20))\n",
    "# Show plot \n",
    "plt.show()"
   ]
  },
  {
   "cell_type": "code",
   "execution_count": null,
   "metadata": {},
   "outputs": [],
   "source": [
    "# Create scatter plot \n",
    "plt.scatter(x = 'Gross profit (USD)', y = 'Net profit (USD)', data= df_uzair, s=100)  \n",
    "# Create title, xlabel and ylabel \n",
    "plt.title('Overall profit') \n",
    "plt.xlabel('Gross profit') \n",
    "plt.ylabel('Net profit')  \n",
    "plt.gcf().set_size_inches((20, 20))\n",
    "# Show plot \n",
    "plt.show()"
   ]
  },
  {
   "cell_type": "code",
   "execution_count": null,
   "metadata": {},
   "outputs": [],
   "source": [
    "print(type(df_uzair))"
   ]
  },
  {
   "cell_type": "code",
   "execution_count": null,
   "metadata": {},
   "outputs": [],
   "source": [
    "for key, value in df_uzair.items():\n",
    "    print(key,type(value))"
   ]
  },
  {
   "cell_type": "code",
   "execution_count": null,
   "metadata": {},
   "outputs": [],
   "source": [
    "df_uzair1=Total_sales_uzair.iloc[2:17, [4,52]]"
   ]
  },
  {
   "cell_type": "code",
   "execution_count": null,
   "metadata": {},
   "outputs": [],
   "source": [
    "df_uzair1"
   ]
  },
  {
   "cell_type": "code",
   "execution_count": null,
   "metadata": {},
   "outputs": [],
   "source": [
    "df_uzair1.columns=['Customer name', 'Net profit']"
   ]
  },
  {
   "cell_type": "code",
   "execution_count": null,
   "metadata": {},
   "outputs": [],
   "source": [
    "df_uzair1"
   ]
  },
  {
   "cell_type": "code",
   "execution_count": null,
   "metadata": {},
   "outputs": [],
   "source": [
    "from pandas import DataFrame\n",
    "import matplotlib.pyplot as plt\n",
    "df = DataFrame(df_uzair1,columns=['Customer name','Net profit'])\n",
    "df.plot(x ='Customer name', y='Net profit', kind = 'bar')\n",
    "plt.gcf().set_size_inches((15, 10))\n",
    "plt.show()"
   ]
  },
  {
   "cell_type": "code",
   "execution_count": null,
   "metadata": {},
   "outputs": [],
   "source": [
    "df_uzair.plot( marker='o')\n",
    "plt.gcf().set_size_inches((15, 10))"
   ]
  },
  {
   "cell_type": "code",
   "execution_count": null,
   "metadata": {},
   "outputs": [],
   "source": [
    "data1={'sum': [65956126.20961119, 47740477.728496, 10705047.001115197, 18215644.5011152, 6532787.5]}"
   ]
  },
  {
   "cell_type": "code",
   "execution_count": null,
   "metadata": {},
   "outputs": [],
   "source": [
    "from pandas import DataFrame\n",
    "import matplotlib.pyplot as plt\n",
    "df2 = DataFrame(data1,columns=['sum'],index = ['1st Calculated Value', '2nd Total Calculated value', 'Gross profit', 'Marketing fund', 'Net profit'])\n",
    "df2.plot.pie(y='sum',figsize=(6, 6),autopct='%1.1f%%', startangle=90)\n",
    "plt.show()"
   ]
  },
  {
   "cell_type": "code",
   "execution_count": null,
   "metadata": {},
   "outputs": [],
   "source": [
    "df_uzair2=df_uzair1['Net profit']"
   ]
  },
  {
   "cell_type": "code",
   "execution_count": null,
   "metadata": {},
   "outputs": [],
   "source": [
    "df_uzair2"
   ]
  },
  {
   "cell_type": "code",
   "execution_count": null,
   "metadata": {},
   "outputs": [],
   "source": [
    "df_uzair1"
   ]
  },
  {
   "cell_type": "code",
   "execution_count": null,
   "metadata": {},
   "outputs": [],
   "source": [
    "customers={'Customer name': ['fast', 'DP World', 'NED','novovordisk','NED','NBP','Fast','NBP','fossil energy','fossil energy','TMB','fast','NBP','dp world','TMB']}"
   ]
  },
  {
   "cell_type": "code",
   "execution_count": null,
   "metadata": {},
   "outputs": [],
   "source": [
    "dd={'Net profit': [ 531430.970,\n",
    "      72274.176,\n",
    "    151597.200,\n",
    "     152200.544,\n",
    "     104953.600,\n",
    "     302745.800,\n",
    "         289680,\n",
    "     305429.550,\n",
    "    123400.822,\n",
    "         56095,\n",
    "   1197031.600,\n",
    "         24677,\n",
    "   7330464.707,\n",
    "     63066.032,\n",
    "          np.nan]}"
   ]
  },
  {
   "cell_type": "code",
   "execution_count": null,
   "metadata": {},
   "outputs": [],
   "source": [
    "from pandas import DataFrame\n",
    "import matplotlib.pyplot as plt\n",
    "df2 = DataFrame(dd,columns=['Net profit'],index = ['fast', 'DP World', 'NED','novovordisk','NED','NBP','Fast','NBP','fossil energy','fossil energy','TMB','fast','NBP','dp world','TMB'])\n",
    "df2.plot.pie(y='Net profit',figsize=(20, 40),autopct='%1.1f%%', startangle=90)\n",
    "plt.show()"
   ]
  },
  {
   "cell_type": "code",
   "execution_count": null,
   "metadata": {},
   "outputs": [],
   "source": [
    "import matplotlib.pyplot as plt\n",
    "\n",
    "# create dummy variable them group by that\n",
    "# set the legend to false because we'll fix it later\n",
    "df_uzair1.assign(dummy = 1).groupby(\n",
    "  ['dummy','Customer name']\n",
    ").size().to_frame().unstack().plot(kind='bar',stacked=True,legend=False)\n",
    "\n",
    "plt.title('Number of records by customer name')\n",
    "\n",
    "# other it'll show up as 'dummy' \n",
    "plt.xlabel('customers')\n",
    "\n",
    "# disable ticks in the x axis\n",
    "plt.xticks([])\n",
    "\n",
    "# fix the legend\n",
    "current_handles, _ = plt.gca().get_legend_handles_labels()\n",
    "reversed_handles = reversed(current_handles)\n",
    "\n",
    "labels = reversed(df_uzair1['Customer name'])\n",
    "\n",
    "plt.legend(reversed_handles,labels,loc='lower right')\n",
    "plt.gcf().set_size_inches((10, 10))\n",
    "plt.show()"
   ]
  },
  {
   "cell_type": "code",
   "execution_count": null,
   "metadata": {},
   "outputs": [],
   "source": [
    "import matplotlib.pyplot as plt\n",
    "import matplotlib.ticker as mtick\n",
    "\n",
    "# create dummy variable then group by that\n",
    "# set the legend to false because we'll fix it later\n",
    "df_uzair1.assign(dummy = 1).groupby(\n",
    "  ['dummy','Customer name']\n",
    ").size().groupby(level=0).apply(\n",
    "    lambda x: 100 * x / x.sum()\n",
    ").to_frame().unstack().plot(kind='bar',stacked=True,legend=False)\n",
    "\n",
    "# or it'll show up as 'dummy' \n",
    "plt.xlabel('Customer name')\n",
    "\n",
    "# disable ticks in the x axis\n",
    "plt.xticks([])\n",
    "\n",
    "# fix the legend or it'll include the dummy variable\n",
    "current_handles, _ = plt.gca().get_legend_handles_labels()\n",
    "reversed_handles = reversed(current_handles)\n",
    "correct_labels = reversed(df_uzair1['Customer name'].unique())\n",
    "\n",
    "plt.legend(reversed_handles,correct_labels)\n",
    "\n",
    "plt.gca().yaxis.set_major_formatter(mtick.PercentFormatter())\n",
    "plt.gcf().set_size_inches((10, 10))\n",
    "plt.show()"
   ]
  },
  {
   "cell_type": "code",
   "execution_count": null,
   "metadata": {},
   "outputs": [],
   "source": [
    "import matplotlib.pyplot as plt\n",
    "import pandas as pd\n",
    "\n",
    "df_uzair1.groupby(['Net profit','Customer name']).size().unstack().plot(kind='bar',stacked=True)\n",
    "plt.gcf().set_size_inches((10, 10))\n",
    "plt.show()"
   ]
  },
  {
   "cell_type": "code",
   "execution_count": null,
   "metadata": {},
   "outputs": [],
   "source": [
    "df_uzair1.groupby(['Customer name','Net profit']).size().unstack().plot(kind='bar',stacked=True)\n",
    "plt.gcf().set_size_inches((10, 10))\n",
    "plt.show()"
   ]
  },
  {
   "cell_type": "code",
   "execution_count": null,
   "metadata": {},
   "outputs": [],
   "source": [
    "import matplotlib.ticker as mtick\n",
    "import matplotlib.pyplot as plt\n",
    "\n",
    "df_uzair1.groupby(['Net profit','Customer name']).size().groupby(level=0).apply(\n",
    "    lambda x: 100 * x / x.sum()\n",
    ").unstack().plot(kind='bar',stacked=True)\n",
    "\n",
    "plt.gca().yaxis.set_major_formatter(mtick.PercentFormatter())\n",
    "plt.gcf().set_size_inches((10, 10))\n",
    "plt.show()"
   ]
  },
  {
   "cell_type": "code",
   "execution_count": null,
   "metadata": {},
   "outputs": [],
   "source": [
    "Total_sales_owais=pd.read_excel(\"C:\\\\Users\\\\Mutex System\\\\Downloads\\\\20200601-Total Sales.xlsx\", sheet_name=\"Owais\", parse_date=True)\n",
    "Total_sales_owais"
   ]
  },
  {
   "cell_type": "code",
   "execution_count": null,
   "metadata": {},
   "outputs": [],
   "source": [
    "df_owais=Total_sales_owais.iloc[2:16, [11,4,36,47,48,52]]"
   ]
  },
  {
   "cell_type": "code",
   "execution_count": null,
   "metadata": {},
   "outputs": [],
   "source": [
    "df_owais"
   ]
  },
  {
   "cell_type": "code",
   "execution_count": null,
   "metadata": {},
   "outputs": [],
   "source": [
    "df_owais.columns=['Month', 'Customer name' , '1st Calculated Value (USD)', '2nd Total Calculated value (USD)', 'Gross profit (USD)', 'Net profit (USD)']"
   ]
  },
  {
   "cell_type": "code",
   "execution_count": null,
   "metadata": {},
   "outputs": [],
   "source": [
    "df_owais"
   ]
  },
  {
   "cell_type": "code",
   "execution_count": null,
   "metadata": {},
   "outputs": [],
   "source": [
    "df_owais.dtypes"
   ]
  },
  {
   "cell_type": "code",
   "execution_count": null,
   "metadata": {},
   "outputs": [],
   "source": [
    "df_owais['1st Calculated Value (USD)'] = df_owais['1st Calculated Value (USD)'].astype('float')\n",
    "df_owais['2nd Total Calculated value (USD)'] = df_owais['2nd Total Calculated value (USD)'].astype('float')\n",
    "df_owais['Net profit (USD)'] = df_owais['Net profit (USD)'].astype('float')\n",
    "df_owais['Gross profit (USD)'] = df_owais['Gross profit (USD)'].astype('float')"
   ]
  },
  {
   "cell_type": "code",
   "execution_count": null,
   "metadata": {},
   "outputs": [],
   "source": [
    "df_owais.dtypes"
   ]
  },
  {
   "cell_type": "code",
   "execution_count": null,
   "metadata": {},
   "outputs": [],
   "source": [
    "df_owais.sum()"
   ]
  },
  {
   "cell_type": "code",
   "execution_count": null,
   "metadata": {},
   "outputs": [],
   "source": [
    "df_owais.describe()"
   ]
  },
  {
   "cell_type": "code",
   "execution_count": null,
   "metadata": {},
   "outputs": [],
   "source": [
    "import matplotlib.pyplot as plt \n",
    "plt.hist(df_owais['1st Calculated Value (USD)']) \n",
    "plt.title('Calculated Value (USD)', fontsize=20)\n",
    "plt.gcf().set_size_inches((15, 10))"
   ]
  },
  {
   "cell_type": "code",
   "execution_count": null,
   "metadata": {},
   "outputs": [],
   "source": [
    "import matplotlib.pyplot as plt \n",
    "plt.hist(df_owais['2nd Total Calculated value (USD)']) \n",
    "plt.title('2nd Total Calculated value (USD)', fontsize=20)\n",
    "plt.gcf().set_size_inches((15, 10))"
   ]
  },
  {
   "cell_type": "code",
   "execution_count": null,
   "metadata": {},
   "outputs": [],
   "source": [
    "import matplotlib.pyplot as plt \n",
    "plt.hist(df_owais['Gross profit (USD)']) \n",
    "plt.title('Gross profit (USD)', fontsize=20)\n",
    "plt.gcf().set_size_inches((15, 10))"
   ]
  },
  {
   "cell_type": "code",
   "execution_count": null,
   "metadata": {},
   "outputs": [],
   "source": [
    "import matplotlib.pyplot as plt \n",
    "\n",
    "plt.hist(df_owais['Net profit (USD)']) \n",
    "\n",
    "plt.title('Net profit (USD)', fontsize=20)\n",
    "\n",
    "plt.gcf().set_size_inches((15, 10))"
   ]
  },
  {
   "cell_type": "code",
   "execution_count": null,
   "metadata": {},
   "outputs": [],
   "source": [
    "# Create scatter plot \n",
    "plt.scatter(x = '1st Calculated Value (USD)', y = '2nd Total Calculated value (USD)', data= df_owais, s=70)  \n",
    "# Create title, xlabel and ylabel \n",
    "plt.title('Overall Calculation', fontsize=20) \n",
    "plt.xlabel('1st Calculated Value (USD)', fontsize=20) \n",
    "plt.ylabel('2nd Total Calculated value (USD)', fontsize=20)  \n",
    "plt.gcf().set_size_inches((15, 10))\n",
    "plt.rcParams[\"font.weight\"] = \"bold\"\n",
    "plt.rcParams[\"axes.labelweight\"] = \"bold\"\n",
    "plt.legend(fontsize=30) # using a size in points\n",
    "plt.legend(fontsize=\"x-large\") # using a named size\n",
    "# Show plot \n",
    "plt.show()"
   ]
  },
  {
   "cell_type": "code",
   "execution_count": null,
   "metadata": {},
   "outputs": [],
   "source": [
    "# Create scatter plot \n",
    "plt.scatter(x = 'Gross profit (USD)', y = 'Net profit (USD)', data= df_owais,s=50)  \n",
    "# Create title, xlabel and ylabel \n",
    "plt.title('Overall profit',fontsize=20) \n",
    "plt.xlabel('Gross profit', fontsize=20) \n",
    "plt.ylabel('Net profit',fontsize=20)  \n",
    "plt.gcf().set_size_inches((15, 10))\n",
    "plt.rcParams[\"font.weight\"] = \"bold\"\n",
    "plt.rcParams[\"axes.labelweight\"] = \"bold\"\n",
    "plt.legend(fontsize=30) # using a size in points\n",
    "plt.legend(fontsize=\"x-large\") # using a named size\n",
    "# Show plot \n",
    "plt.show()"
   ]
  },
  {
   "cell_type": "code",
   "execution_count": null,
   "metadata": {},
   "outputs": [],
   "source": [
    "# Create scatter plot \n",
    "plt.scatter(x = 'Customer name', y = 'Gross profit (USD)', data= df_owais,s=70)  \n",
    "# Create title, xlabel and ylabel \n",
    "plt.title('Customer wise Gross profit',fontsize=20) \n",
    "plt.xlabel('Customer name',fontsize=20) \n",
    "plt.ylabel('Gross profit (USD)',fontsize=20) \n",
    "#plt.figure(figsize=(500,100))\n",
    "plt.gcf().set_size_inches((15, 10))\n",
    "plt.rcParams[\"font.weight\"] = \"bold\"\n",
    "plt.rcParams[\"axes.labelweight\"] = \"bold\"\n",
    "plt.legend(fontsize=30) # using a size in points\n",
    "plt.legend(fontsize=\"x-large\") # using a named size\n",
    "# Show plot \n",
    "plt.show()"
   ]
  },
  {
   "cell_type": "code",
   "execution_count": null,
   "metadata": {},
   "outputs": [],
   "source": [
    "# Create scatter plot \n",
    "plt.scatter(x = 'Customer name', y = 'Net profit (USD)', data= df_owais,s=70)  \n",
    "# Create title, xlabel and ylabel \n",
    "plt.title('Customer wise Net profit',fontsize=20) \n",
    "plt.xlabel('Customer name',fontsize=20) \n",
    "plt.ylabel('Net profit (USD)', fontsize=20) \n",
    "#plt.figure(figsize=(500,100))\n",
    "plt.gcf().set_size_inches((15, 10))\n",
    "plt.rcParams[\"font.weight\"] = \"bold\"\n",
    "plt.rcParams[\"axes.labelweight\"] = \"bold\"\n",
    "plt.legend(fontsize=30) # using a size in points\n",
    "plt.legend(fontsize=\"x-large\") # using a named size\n",
    "# Show plot \n",
    "plt.show()"
   ]
  },
  {
   "cell_type": "code",
   "execution_count": null,
   "metadata": {},
   "outputs": [],
   "source": [
    "df_owais.plot( marker='o')\n",
    "plt.gcf().set_size_inches((15, 10))\n",
    "plt.rcParams[\"font.weight\"] = \"bold\"\n",
    "plt.rcParams[\"axes.labelweight\"] = \"bold\""
   ]
  },
  {
   "cell_type": "code",
   "execution_count": null,
   "metadata": {},
   "outputs": [],
   "source": [
    "df_owais2=df_owais.iloc[:, [1,4]]"
   ]
  },
  {
   "cell_type": "code",
   "execution_count": null,
   "metadata": {},
   "outputs": [],
   "source": [
    "df_owais2"
   ]
  },
  {
   "cell_type": "code",
   "execution_count": null,
   "metadata": {},
   "outputs": [],
   "source": [
    "from pandas import DataFrame\n",
    "import matplotlib.pyplot as plt\n",
    "dfowais = DataFrame(df_owais2,columns=['Customer name','Gross profit (USD)'])\n",
    "dfowais.plot(x ='Customer name', y='Gross profit (USD)', kind = 'bar')\n",
    "plt.gcf().set_size_inches((15, 10))\n",
    "plt.rcParams[\"font.weight\"] = \"bold\"\n",
    "plt.rcParams[\"axes.labelweight\"] = \"bold\"\n",
    "plt.show()"
   ]
  },
  {
   "cell_type": "code",
   "execution_count": null,
   "metadata": {},
   "outputs": [],
   "source": [
    "df_owais3=df_owais.iloc[:, [1,5]]\n",
    "df_owais3"
   ]
  },
  {
   "cell_type": "code",
   "execution_count": null,
   "metadata": {},
   "outputs": [],
   "source": [
    "dfowais1 = DataFrame(df_owais3,columns=['Customer name','Net profit (USD)'])\n",
    "dfowais1.plot(x ='Customer name', y='Net profit (USD)', kind = 'bar')\n",
    "plt.gcf().set_size_inches((15, 10))\n",
    "plt.rcParams[\"font.weight\"] = \"bold\"\n",
    "plt.rcParams[\"axes.labelweight\"] = \"bold\"\n",
    "plt.show()"
   ]
  },
  {
   "cell_type": "code",
   "execution_count": null,
   "metadata": {},
   "outputs": [],
   "source": [
    "data2={'sum': [12239833.929, 8593115.607, 3646718.323,  3646718.323 ]}"
   ]
  },
  {
   "cell_type": "code",
   "execution_count": null,
   "metadata": {},
   "outputs": [],
   "source": [
    "df_owais.sum()"
   ]
  },
  {
   "cell_type": "code",
   "execution_count": null,
   "metadata": {},
   "outputs": [],
   "source": [
    "df3 = DataFrame(data2,columns=['sum'],index = ['1st Calculated Value', '2nd Total Calculated value', 'Gross profit', 'Net profit'])\n",
    "df3.plot.pie(y='sum',figsize=(6, 6),autopct='%1.1f%%', startangle=120)\n",
    "plt.legend(fontsize=30) # using a size in points\n",
    "plt.legend(fontsize=\"x-large\") # using a named size\n",
    "plt.show()"
   ]
  },
  {
   "cell_type": "code",
   "execution_count": null,
   "metadata": {},
   "outputs": [],
   "source": [
    "do=df_owais3['Customer name']"
   ]
  },
  {
   "cell_type": "code",
   "execution_count": null,
   "metadata": {},
   "outputs": [],
   "source": [
    "do"
   ]
  },
  {
   "cell_type": "code",
   "execution_count": null,
   "metadata": {},
   "outputs": [],
   "source": [
    "do1={ 'Net profit ':[29293.473,\n",
    "     482133.260,\n",
    "       9104.320,\n",
    "      28501.229,\n",
    "     24511.947,\n",
    "    2446773.000,\n",
    "     129669.488,\n",
    "      18979.164,\n",
    "     56451.200,\n",
    "    216483.234,\n",
    "     34602.137,\n",
    "      9611.159,\n",
    "     45489.600,\n",
    "    115115.113]}"
   ]
  },
  {
   "cell_type": "code",
   "execution_count": null,
   "metadata": {},
   "outputs": [],
   "source": [
    "dfo = DataFrame(do1,columns=['Net profit '],index = [do])\n",
    "plt.rcParams[\"font.weight\"] = \"bold\"\n",
    "plt.rcParams[\"axes.labelweight\"] = \"bold\"\n",
    "dfo.plot.pie(y='Net profit ',fontsize=13,figsize=(20, 100),autopct='%1.1f%%', startangle=160)\n",
    "plt.legend(fontsize=30) # using a size in points\n",
    "plt.legend(fontsize=\"x-large\") # using a named size\n",
    "plt.show()"
   ]
  },
  {
   "cell_type": "code",
   "execution_count": null,
   "metadata": {},
   "outputs": [],
   "source": [
    "df_owais3.assign(dummy = 1).groupby(\n",
    "  ['dummy','Customer name']\n",
    ").size().to_frame().unstack().plot(kind='bar',stacked=True,legend=False, fontsize=15)\n",
    "\n",
    "plt.title('Number of records by customer name', fontsize=20)\n",
    "\n",
    "# other it'll show up as 'dummy' \n",
    "plt.xlabel('Customer Name', fontsize=20)\n",
    "\n",
    "# disable ticks in the x axis\n",
    "plt.xticks([])\n",
    "\n",
    "# fix the legend\n",
    "current_handles, _ = plt.gca().get_legend_handles_labels()\n",
    "reversed_handles = reversed(current_handles)\n",
    "\n",
    "labels = reversed(df_owais3['Customer name'])\n",
    "\n",
    "plt.legend(reversed_handles,labels,loc='lower right')\n",
    "plt.gcf().set_size_inches((10, 10))\n",
    "plt.show()"
   ]
  },
  {
   "cell_type": "code",
   "execution_count": null,
   "metadata": {},
   "outputs": [],
   "source": [
    "# create dummy variable then group by that\n",
    "# set the legend to false because we'll fix it later\n",
    "df_owais3.assign(dummy = 1).groupby(\n",
    "  ['dummy','Customer name']\n",
    ").size().groupby(level=0).apply(\n",
    "    lambda x: 100 * x / x.sum()\n",
    ").to_frame().unstack().plot(kind='bar',stacked=True,legend=False, fontsize=15)\n",
    "\n",
    "# or it'll show up as 'dummy' \n",
    "plt.xlabel('Customer name',fontsize=20)\n",
    "\n",
    "# disable ticks in the x axis\n",
    "plt.xticks([])\n",
    "\n",
    "# fix the legend or it'll include the dummy variable\n",
    "current_handles, _ = plt.gca().get_legend_handles_labels()\n",
    "reversed_handles = reversed(current_handles)\n",
    "correct_labels = reversed(df_owais3['Customer name'].unique())\n",
    "\n",
    "plt.legend(reversed_handles,correct_labels)\n",
    "\n",
    "plt.gca().yaxis.set_major_formatter(mtick.PercentFormatter())\n",
    "plt.gcf().set_size_inches((10, 10))\n",
    "plt.show()"
   ]
  },
  {
   "cell_type": "code",
   "execution_count": null,
   "metadata": {},
   "outputs": [],
   "source": [
    "df_owais3.groupby(['Net profit (USD)','Customer name']).size().unstack().plot(kind='bar',stacked=True, fontsize=15)\n",
    "plt.gcf().set_size_inches((10, 10))\n",
    "plt.legend(fontsize=30) # using a size in points\n",
    "plt.legend(fontsize=\"x-large\") # using a named size\n",
    "plt.show()"
   ]
  },
  {
   "cell_type": "code",
   "execution_count": null,
   "metadata": {},
   "outputs": [],
   "source": [
    "df_owais3.groupby(['Customer name','Net profit (USD)']).size().unstack().plot(kind='bar',stacked=True, fontsize=15)\n",
    "plt.gcf().set_size_inches((10, 10))\n",
    "plt.legend(fontsize=20) # using a size in points\n",
    "plt.legend(fontsize=\"x-large\") # using a named size\n",
    "plt.show()"
   ]
  },
  {
   "cell_type": "code",
   "execution_count": null,
   "metadata": {},
   "outputs": [],
   "source": [
    "df_owais3.groupby(['Net profit (USD)','Customer name']).size().groupby(level=0).apply(\n",
    "    lambda x: 100 * x / x.sum()\n",
    ").unstack().plot(kind='bar',stacked=True, fontsize=15)\n",
    "\n",
    "plt.gca().yaxis.set_major_formatter(mtick.PercentFormatter())\n",
    "plt.gcf().set_size_inches((10, 10))\n",
    "plt.legend(fontsize=20) # using a size in points\n",
    "plt.legend(fontsize=\"x-large\") # using a named size\n",
    "plt.show()"
   ]
  },
  {
   "cell_type": "code",
   "execution_count": null,
   "metadata": {},
   "outputs": [],
   "source": [
    "all_over_sales=pd.read_excel(\"C:\\\\Users\\\\Mutex System\\\\Downloads\\\\20200601-Total Sales.xlsx\")\n",
    "all_over_sales"
   ]
  },
  {
   "cell_type": "code",
   "execution_count": null,
   "metadata": {},
   "outputs": [],
   "source": []
  },
  {
   "cell_type": "code",
   "execution_count": null,
   "metadata": {},
   "outputs": [],
   "source": [
    "asd=df_owais.pivot_table('Net profit (USD)', index='Customer name', columns='Gross profit (USD)')\n",
    "asd"
   ]
  },
  {
   "cell_type": "code",
   "execution_count": null,
   "metadata": {},
   "outputs": [],
   "source": [
    "Total_sales_others=pd.read_excel(\"C:\\\\Users\\\\Mutex System\\\\Downloads\\\\20200601-Total Sales.xlsx\", sheet_name=\"Others\", parse_date=True)\n",
    "Total_sales_others"
   ]
  },
  {
   "cell_type": "code",
   "execution_count": null,
   "metadata": {},
   "outputs": [],
   "source": [
    "df_others=Total_sales_others.iloc[2:5, [11,4,36,47,48,52]]"
   ]
  },
  {
   "cell_type": "code",
   "execution_count": null,
   "metadata": {},
   "outputs": [],
   "source": [
    "df_others"
   ]
  },
  {
   "cell_type": "code",
   "execution_count": null,
   "metadata": {},
   "outputs": [],
   "source": [
    "df_others.columns=['Month', 'Customer name' , '1st Calculated Value (USD)', '2nd Total Calculated value (USD)', 'Gross profit (USD)', 'Net profit (USD)']"
   ]
  },
  {
   "cell_type": "code",
   "execution_count": null,
   "metadata": {},
   "outputs": [],
   "source": [
    "df_others"
   ]
  },
  {
   "cell_type": "code",
   "execution_count": null,
   "metadata": {},
   "outputs": [],
   "source": [
    "df_others.dtypes"
   ]
  },
  {
   "cell_type": "code",
   "execution_count": null,
   "metadata": {},
   "outputs": [],
   "source": [
    "df_others['1st Calculated Value (USD)'] = df_others['1st Calculated Value (USD)'].astype('float')\n",
    "df_others['2nd Total Calculated value (USD)'] = df_others['2nd Total Calculated value (USD)'].astype('float')\n",
    "df_others['Net profit (USD)'] = df_others['Net profit (USD)'].astype('float')\n",
    "df_others['Gross profit (USD)'] = df_others['Gross profit (USD)'].astype('float')"
   ]
  },
  {
   "cell_type": "code",
   "execution_count": null,
   "metadata": {},
   "outputs": [],
   "source": [
    "df_others.dtypes"
   ]
  },
  {
   "cell_type": "code",
   "execution_count": null,
   "metadata": {},
   "outputs": [],
   "source": [
    "df_others.sum()"
   ]
  },
  {
   "cell_type": "code",
   "execution_count": null,
   "metadata": {},
   "outputs": [],
   "source": [
    "df_others.describe()"
   ]
  },
  {
   "cell_type": "code",
   "execution_count": null,
   "metadata": {},
   "outputs": [],
   "source": [
    "plt.hist(df_others['1st Calculated Value (USD)'], bins=20) \n",
    "plt.title('Calculated Value (USD)', fontsize=20)\n",
    "plt.gcf().set_size_inches((15, 10))"
   ]
  },
  {
   "cell_type": "code",
   "execution_count": null,
   "metadata": {},
   "outputs": [],
   "source": [
    "plt.hist(df_others['2nd Total Calculated value (USD)'], bins=20) \n",
    "plt.title('2nd Total Calculated value (USD)', fontsize=20)\n",
    "plt.gcf().set_size_inches((15, 10))"
   ]
  },
  {
   "cell_type": "code",
   "execution_count": null,
   "metadata": {},
   "outputs": [],
   "source": [
    "plt.hist(df_others['Gross profit (USD)'], bins=20) \n",
    "plt.title('Gross profit (USD)', fontsize=20)\n",
    "plt.gcf().set_size_inches((15, 10))"
   ]
  },
  {
   "cell_type": "code",
   "execution_count": null,
   "metadata": {},
   "outputs": [],
   "source": [
    "plt.hist(df_others['Net profit (USD)'], bins=20) \n",
    "plt.title('Net profit (USD)', fontsize=20)\n",
    "plt.gcf().set_size_inches((15, 10))"
   ]
  },
  {
   "cell_type": "code",
   "execution_count": null,
   "metadata": {},
   "outputs": [],
   "source": [
    "# Create scatter plot \n",
    "plt.scatter(x = '1st Calculated Value (USD)', y = '2nd Total Calculated value (USD)', data= df_others, s=70)  \n",
    "# Create title, xlabel and ylabel \n",
    "plt.title('Overall Calculation', fontsize=20) \n",
    "plt.xlabel('1st Calculated Value (USD)', fontsize=20) \n",
    "plt.ylabel('2nd Total Calculated value (USD)', fontsize=20)  \n",
    "plt.gcf().set_size_inches((15, 10))\n",
    "plt.rcParams[\"font.weight\"] = \"bold\"\n",
    "plt.rcParams[\"axes.labelweight\"] = \"bold\"\n",
    "plt.legend(fontsize=30) # using a size in points\n",
    "plt.legend(fontsize=\"x-large\") # using a named size\n",
    "# Show plot \n",
    "plt.show()"
   ]
  },
  {
   "cell_type": "code",
   "execution_count": null,
   "metadata": {},
   "outputs": [],
   "source": [
    "# Create scatter plot \n",
    "plt.scatter(x = 'Gross profit (USD)', y = 'Net profit (USD)', data= df_others,s=50)  \n",
    "# Create title, xlabel and ylabel \n",
    "plt.title('Overall profit',fontsize=20) \n",
    "plt.xlabel('Gross profit', fontsize=20) \n",
    "plt.ylabel('Net profit',fontsize=20)  \n",
    "plt.gcf().set_size_inches((15, 10))\n",
    "plt.rcParams[\"font.weight\"] = \"bold\"\n",
    "plt.rcParams[\"axes.labelweight\"] = \"bold\"\n",
    "plt.legend(fontsize=30) # using a size in points\n",
    "plt.legend(fontsize=\"x-large\") # using a named size\n",
    "# Show plot \n",
    "plt.show()"
   ]
  },
  {
   "cell_type": "code",
   "execution_count": null,
   "metadata": {},
   "outputs": [],
   "source": [
    "# Create scatter plot \n",
    "plt.scatter(x = 'Customer name', y = 'Gross profit (USD)', data= df_others,s=70)  \n",
    "# Create title, xlabel and ylabel \n",
    "plt.title('Customer wise Gross profit',fontsize=20) \n",
    "plt.xlabel('Customer name',fontsize=20) \n",
    "plt.ylabel('Gross profit (USD)',fontsize=20) \n",
    "#plt.figure(figsize=(500,100))\n",
    "plt.gcf().set_size_inches((15, 10))\n",
    "plt.rcParams[\"font.weight\"] = \"bold\"\n",
    "plt.rcParams[\"axes.labelweight\"] = \"bold\"\n",
    "plt.legend(fontsize=30) # using a size in points\n",
    "plt.legend(fontsize=\"x-large\") # using a named size\n",
    "# Show plot \n",
    "plt.show()"
   ]
  },
  {
   "cell_type": "code",
   "execution_count": null,
   "metadata": {},
   "outputs": [],
   "source": [
    "# Create scatter plot \n",
    "plt.scatter(x = 'Customer name', y = 'Net profit (USD)', data= df_others,s=70)  \n",
    "# Create title, xlabel and ylabel \n",
    "plt.title('Customer wise Net profit',fontsize=20) \n",
    "plt.xlabel('Customer name',fontsize=20) \n",
    "plt.ylabel('Net profit (USD)', fontsize=20) \n",
    "#plt.figure(figsize=(500,100))\n",
    "plt.gcf().set_size_inches((15, 10))\n",
    "plt.rcParams[\"font.weight\"] = \"bold\"\n",
    "plt.rcParams[\"axes.labelweight\"] = \"bold\"\n",
    "plt.legend(fontsize=30) # using a size in points\n",
    "plt.legend(fontsize=\"x-large\") # using a named size\n",
    "# Show plot \n",
    "plt.show()"
   ]
  },
  {
   "cell_type": "code",
   "execution_count": null,
   "metadata": {},
   "outputs": [],
   "source": [
    "df_others.plot( marker='o')\n",
    "plt.gcf().set_size_inches((15, 10))\n",
    "plt.rcParams[\"font.weight\"] = \"bold\"\n",
    "plt.rcParams[\"axes.labelweight\"] = \"bold\""
   ]
  },
  {
   "cell_type": "code",
   "execution_count": null,
   "metadata": {},
   "outputs": [],
   "source": [
    "fig, ax=plt.subplots(3,1,  sharey=True)\n",
    "ax[0].plot(df_others['Net profit (USD)'], df_others['1st Calculated Value (USD)'], color='r' , marker='v')\n",
    "ax[1].plot(df_others['Net profit (USD)'], df_others['2nd Total Calculated value (USD)'], color='b' , marker='v')\n",
    "ax[0].set_ylabel('1st(Cal.value)')\n",
    "ax[0].set_title('Comparision between 1st, 2nd Calculated values, Net & Gross profit of others in USD', fontweight='bold')\n",
    "ax[1].set_ylabel('2nd(Cal.value)')\n",
    "\n",
    "ax[2].plot(df_others['Net profit (USD)'], df_others['Gross profit (USD)'], color='g' , marker='v')\n",
    "ax[2].set_xlabel('Net profit (USD)')\n",
    "ax[2].set_ylabel('Gross profit')\n",
    "plt.gcf().set_size_inches((15, 10))\n",
    "\n",
    "plt.show()"
   ]
  },
  {
   "cell_type": "code",
   "execution_count": null,
   "metadata": {},
   "outputs": [],
   "source": [
    "dfothers = DataFrame(df_others,columns=['Customer name','Gross profit (USD)'])\n",
    "dfothers.plot(x ='Customer name', y='Gross profit (USD)', kind = 'bar')\n",
    "plt.gcf().set_size_inches((15, 10))\n",
    "plt.rcParams[\"font.weight\"] = \"bold\"\n",
    "plt.rcParams[\"axes.labelweight\"] = \"bold\"\n",
    "plt.show()"
   ]
  },
  {
   "cell_type": "code",
   "execution_count": null,
   "metadata": {},
   "outputs": [],
   "source": [
    "dfothers = DataFrame(df_others,columns=['Customer name','Net profit (USD)'])\n",
    "dfothers.plot(x ='Customer name', y='Net profit (USD)', kind = 'bar')\n",
    "plt.gcf().set_size_inches((15, 10))\n",
    "plt.rcParams[\"font.weight\"] = \"bold\"\n",
    "plt.rcParams[\"axes.labelweight\"] = \"bold\"\n",
    "plt.show()"
   ]
  },
  {
   "cell_type": "code",
   "execution_count": null,
   "metadata": {},
   "outputs": [],
   "source": [
    "df_others.sum()"
   ]
  },
  {
   "cell_type": "code",
   "execution_count": null,
   "metadata": {},
   "outputs": [],
   "source": [
    "dataothers={'sum': [6377505.387, 5946690.420,  430814.967, 207743.967 ]}"
   ]
  },
  {
   "cell_type": "code",
   "execution_count": null,
   "metadata": {},
   "outputs": [],
   "source": [
    "df3others = DataFrame(dataothers,columns=['sum'],index = ['1st Calculated Value', '2nd Total Calculated value', 'Gross profit', 'Net profit'])\n",
    "df3others.plot.pie(y='sum',figsize=(6, 6),autopct='%1.1f%%', startangle=120)\n",
    "plt.legend(fontsize=30) # using a size in points\n",
    "plt.legend(fontsize=\"x-large\") # using a named size\n",
    "plt.show()"
   ]
  },
  {
   "cell_type": "code",
   "execution_count": null,
   "metadata": {},
   "outputs": [],
   "source": [
    "dfother=df_others['Customer name']"
   ]
  },
  {
   "cell_type": "code",
   "execution_count": null,
   "metadata": {},
   "outputs": [],
   "source": [
    "dfother"
   ]
  },
  {
   "cell_type": "code",
   "execution_count": null,
   "metadata": {},
   "outputs": [],
   "source": [
    "df_others['Net profit (USD)']"
   ]
  },
  {
   "cell_type": "code",
   "execution_count": null,
   "metadata": {},
   "outputs": [],
   "source": [
    "dfother1={'Net profit':[-42901.883,\n",
    "  250645.850,\n",
    "       0.000]}"
   ]
  },
  {
   "cell_type": "code",
   "execution_count": null,
   "metadata": {},
   "outputs": [],
   "source": [
    "df_others12=df_others.iloc[:, [1,5]]\n",
    "df_others12"
   ]
  },
  {
   "cell_type": "code",
   "execution_count": null,
   "metadata": {},
   "outputs": [],
   "source": []
  },
  {
   "cell_type": "code",
   "execution_count": null,
   "metadata": {},
   "outputs": [],
   "source": [
    "# create dummy variable then group by that\n",
    "# set the legend to false because we'll fix it later\n",
    "df_others12.assign(dummy = 1).groupby(\n",
    "  ['dummy','Customer name']\n",
    ").size().groupby(level=0).apply(\n",
    "    lambda x: 100 * x / x.sum()\n",
    ").to_frame().unstack().plot(kind='bar',stacked=True,legend=False, fontsize=15)\n",
    "\n",
    "# or it'll show up as 'dummy' \n",
    "plt.xlabel('Customer name',fontsize=20)\n",
    "\n",
    "# disable ticks in the x axis\n",
    "plt.xticks([])\n",
    "\n",
    "# fix the legend or it'll include the dummy variable\n",
    "current_handles, _ = plt.gca().get_legend_handles_labels()\n",
    "reversed_handles = reversed(current_handles)\n",
    "correct_labels = reversed(df_others12['Customer name'].unique())\n",
    "\n",
    "plt.legend(reversed_handles,correct_labels)\n",
    "\n",
    "plt.gca().yaxis.set_major_formatter(mtick.PercentFormatter())\n",
    "plt.gcf().set_size_inches((10, 10))\n",
    "plt.show()"
   ]
  },
  {
   "cell_type": "code",
   "execution_count": null,
   "metadata": {
    "scrolled": false
   },
   "outputs": [],
   "source": [
    "df_others12.groupby(['Net profit (USD)','Customer name']).size().unstack().plot(kind='bar',stacked=True, fontsize=15)\n",
    "plt.gcf().set_size_inches((10, 10))\n",
    "plt.legend(fontsize=30) # using a size in points\n",
    "plt.legend(fontsize=\"x-large\") # using a named size\n",
    "plt.show()"
   ]
  },
  {
   "cell_type": "code",
   "execution_count": null,
   "metadata": {},
   "outputs": [],
   "source": [
    "df_others.groupby(['Customer name','Net profit (USD)']).size().unstack().plot(kind='bar',stacked=True, fontsize=15)\n",
    "plt.gcf().set_size_inches((10, 10))\n",
    "plt.legend(fontsize=20) # using a size in points\n",
    "plt.legend(fontsize=\"x-large\") # using a named size\n",
    "plt.show()"
   ]
  },
  {
   "cell_type": "code",
   "execution_count": null,
   "metadata": {
    "scrolled": false
   },
   "outputs": [],
   "source": [
    "df_others.groupby(['Net profit (USD)','Customer name']).size().groupby(level=0).apply(\n",
    "    lambda x: 100 * x / x.sum()\n",
    ").unstack().plot(kind='bar',stacked=True, fontsize=15)\n",
    "\n",
    "plt.gca().yaxis.set_major_formatter(mtick.PercentFormatter())\n",
    "plt.gcf().set_size_inches((10, 10))\n",
    "plt.legend(fontsize=20) # using a size in points\n",
    "plt.legend(fontsize=\"x-large\") # using a named size\n",
    "plt.show()"
   ]
  },
  {
   "cell_type": "code",
   "execution_count": null,
   "metadata": {},
   "outputs": [],
   "source": [
    "df=Total_sales_asjad.iloc[1:3, [4,36,47,48,52]]\n",
    "df.columns=['Customer name', '1st Calculated Value (USD)', '2nd Total Calculated value (USD)', 'Gross profit (USD)', 'Net profit (USD)']"
   ]
  },
  {
   "cell_type": "code",
   "execution_count": null,
   "metadata": {},
   "outputs": [],
   "source": [
    "df_uzair=Total_sales_uzair.iloc[2:17, [4,36,47,48,52]]\n",
    "df_uzair.columns=['Customer name', '1st Calculated Value (USD)', '2nd Total Calculated value (USD)', 'Gross profit (USD)', 'Net profit (USD)']"
   ]
  },
  {
   "cell_type": "code",
   "execution_count": null,
   "metadata": {},
   "outputs": [],
   "source": [
    "NBP_uzair=df_uzair[df_uzair[\"Customer name\"]==\"NBP\"]\n",
    "NBP_uzair1=df_uzair[df_uzair[\"Customer name\"]==\"Fast\"]\n",
    "NBP_uzair2=df_uzair[df_uzair[\"Customer name\"]==\"NED\"]\n",
    "NBP_uzair3=df_uzair[df_uzair[\"Customer name\"]==\"Fossil Energy\"]\n",
    "NBP_uzair4=df_uzair[df_uzair[\"Customer name\"]==\"DP World\"]\n",
    "NBP_uzair5=df_uzair[df_uzair[\"Customer name\"]==\"TMB\"]"
   ]
  },
  {
   "cell_type": "code",
   "execution_count": null,
   "metadata": {},
   "outputs": [],
   "source": [
    "net_uzair=NBP_uzair['Net profit (USD)'].sum()\n",
    "print(net_uzair)\n",
    "net_uzair1=NBP_uzair1['Net profit (USD)'].sum()\n",
    "print(net_uzair1)\n",
    "net_uzair2=NBP_uzair2['Net profit (USD)'].sum()\n",
    "print(net_uzair2)\n",
    "net_uzair3=NBP_uzair3['Net profit (USD)'].sum()\n",
    "print(net_uzair3)\n",
    "net_uzair4=NBP_uzair4['Net profit (USD)'].sum()\n",
    "print(net_uzair4)\n",
    "net_uzair5=NBP_uzair5['Net profit (USD)'].sum()\n",
    "print(net_uzair5)"
   ]
  },
  {
   "cell_type": "code",
   "execution_count": null,
   "metadata": {},
   "outputs": [],
   "source": []
  },
  {
   "cell_type": "code",
   "execution_count": null,
   "metadata": {},
   "outputs": [],
   "source": [
    "df"
   ]
  },
  {
   "cell_type": "code",
   "execution_count": null,
   "metadata": {},
   "outputs": [],
   "source": [
    "df_uzair"
   ]
  },
  {
   "cell_type": "code",
   "execution_count": null,
   "metadata": {
    "scrolled": false
   },
   "outputs": [],
   "source": [
    "df_owais"
   ]
  },
  {
   "cell_type": "code",
   "execution_count": null,
   "metadata": {
    "scrolled": true
   },
   "outputs": [],
   "source": [
    "df_others"
   ]
  },
  {
   "cell_type": "code",
   "execution_count": null,
   "metadata": {},
   "outputs": [],
   "source": [
    "df['Sales Representative'] = df.apply(lambda row: 'Asjad', axis = 1)\n",
    "df"
   ]
  },
  {
   "cell_type": "code",
   "execution_count": null,
   "metadata": {},
   "outputs": [],
   "source": [
    "df=df[['Sales Representative', 'Customer name' , '1st Calculated Value (USD)', '2nd Total Calculated value (USD)', 'Gross profit (USD)', 'Net profit (USD)']]\n",
    "df"
   ]
  },
  {
   "cell_type": "code",
   "execution_count": null,
   "metadata": {},
   "outputs": [],
   "source": [
    "df_uzair['Sales Representative'] = df_uzair.apply(lambda row: 'Uzair', axis = 1)\n",
    "df_uzair=df_uzair[['Sales Representative', 'Customer name' , '1st Calculated Value (USD)', '2nd Total Calculated value (USD)', 'Gross profit (USD)', 'Net profit (USD)']]\n",
    "df_uzair"
   ]
  },
  {
   "cell_type": "code",
   "execution_count": null,
   "metadata": {},
   "outputs": [],
   "source": [
    "df_owais['Sales Representative'] = df_owais.apply(lambda row: 'Owais', axis = 1)\n",
    "df_owais=df_owais[['Sales Representative', 'Customer name' , '1st Calculated Value (USD)', '2nd Total Calculated value (USD)', 'Gross profit (USD)', 'Net profit (USD)']]\n",
    "df_owais"
   ]
  },
  {
   "cell_type": "code",
   "execution_count": null,
   "metadata": {},
   "outputs": [],
   "source": [
    "df_others['Sales Representative'] = 'Sami', 'Hina', 'Sami'\n",
    "df_others=df_others[['Sales Representative', 'Customer name' , '1st Calculated Value (USD)', '2nd Total Calculated value (USD)', 'Gross profit (USD)', 'Net profit (USD)']]\n",
    "df_others"
   ]
  },
  {
   "cell_type": "code",
   "execution_count": null,
   "metadata": {},
   "outputs": [],
   "source": [
    "result=pd.merge(df,df_uzair,on='Net profit (USD)', how='left')\n",
    "result"
   ]
  },
  {
   "cell_type": "code",
   "execution_count": null,
   "metadata": {},
   "outputs": [],
   "source": [
    "result=pd.merge(df,df_uzair,on='Net profit (USD)', how='right')\n",
    "result"
   ]
  },
  {
   "cell_type": "code",
   "execution_count": null,
   "metadata": {},
   "outputs": [],
   "source": [
    "result=pd.merge(df,df_uzair,on=['Sales Representative', 'Customer name' , '1st Calculated Value (USD)', '2nd Total Calculated value (USD)', 'Gross profit (USD)', 'Net profit (USD)'], how='outer', indicator=True)\n",
    "print(\"outer merge result has {} rows.\".format(result.shape))"
   ]
  },
  {
   "cell_type": "code",
   "execution_count": null,
   "metadata": {},
   "outputs": [],
   "source": [
    "result"
   ]
  },
  {
   "cell_type": "code",
   "execution_count": null,
   "metadata": {},
   "outputs": [],
   "source": []
  },
  {
   "cell_type": "raw",
   "metadata": {},
   "source": []
  },
  {
   "cell_type": "code",
   "execution_count": null,
   "metadata": {},
   "outputs": [],
   "source": []
  },
  {
   "cell_type": "code",
   "execution_count": null,
   "metadata": {},
   "outputs": [],
   "source": []
  },
  {
   "cell_type": "code",
   "execution_count": null,
   "metadata": {},
   "outputs": [],
   "source": [
    "frames=[df, df_uzair, df_owais, df_others]\n",
    "result2=pd.concat(frames)"
   ]
  },
  {
   "cell_type": "code",
   "execution_count": null,
   "metadata": {},
   "outputs": [],
   "source": [
    "result2"
   ]
  },
  {
   "cell_type": "code",
   "execution_count": null,
   "metadata": {},
   "outputs": [],
   "source": [
    "result2.reset_index(drop=True)"
   ]
  },
  {
   "cell_type": "code",
   "execution_count": null,
   "metadata": {},
   "outputs": [],
   "source": [
    "result2.dtypes"
   ]
  },
  {
   "cell_type": "code",
   "execution_count": null,
   "metadata": {},
   "outputs": [],
   "source": [
    "result2['1st Calculated Value (USD)'] = result2['1st Calculated Value (USD)'].astype('float')\n",
    "result2['2nd Total Calculated value (USD)'] = result2['2nd Total Calculated value (USD)'].astype('float')\n",
    "result2['Net profit (USD)'] = result2['Net profit (USD)'].astype('float')\n",
    "result2['Gross profit (USD)'] = result2['Gross profit (USD)'].astype('float')"
   ]
  },
  {
   "cell_type": "code",
   "execution_count": null,
   "metadata": {},
   "outputs": [],
   "source": [
    "result2.dtypes"
   ]
  },
  {
   "cell_type": "code",
   "execution_count": null,
   "metadata": {},
   "outputs": [],
   "source": [
    "result2.groupby([\"Sales Representative\", \"Customer name\"])[\"Net profit (USD)\"].sum()\n",
    "combine=result2.pivot_table(values='Net profit (USD)', index='Customer name', columns='Sales Representative', fill_value=0)\n",
    "combine"
   ]
  },
  {
   "cell_type": "code",
   "execution_count": null,
   "metadata": {},
   "outputs": [],
   "source": [
    "net_uzairmean=NBP_uzair['Net profit (USD)'].mean()\n",
    "net_uzairmean"
   ]
  },
  {
   "cell_type": "code",
   "execution_count": null,
   "metadata": {},
   "outputs": [],
   "source": [
    "net_uzair"
   ]
  },
  {
   "cell_type": "code",
   "execution_count": null,
   "metadata": {},
   "outputs": [],
   "source": [
    "import matplotlib.ticker as ticker"
   ]
  },
  {
   "cell_type": "code",
   "execution_count": null,
   "metadata": {},
   "outputs": [],
   "source": [
    "result2.plot.bar(x='Customer name',y=['Net profit (USD)', 'Gross profit (USD)'],fontsize=30)\n",
    "plt.gcf().set_size_inches((40, 30))\n",
    "plt.legend(fontsize=30) # using a size in points\n",
    "plt.legend(fontsize=\"x-large\") # using a named size\n",
    "plt.rcParams[\"font.weight\"] = \"bold\"\n",
    "plt.rcParams[\"axes.labelweight\"] = \"bold\"\n",
    "ax = plt.gca()"
   ]
  },
  {
   "cell_type": "code",
   "execution_count": null,
   "metadata": {},
   "outputs": [],
   "source": [
    "result2.columns=['Sales_Representative', 'Customer_name' , '1st Calculated Value (USD)', '2nd Total Calculated value (USD)', 'Gross profit (USD)', 'Net profit (USD)']"
   ]
  },
  {
   "cell_type": "code",
   "execution_count": null,
   "metadata": {},
   "outputs": [],
   "source": [
    "result2"
   ]
  },
  {
   "cell_type": "code",
   "execution_count": null,
   "metadata": {},
   "outputs": [],
   "source": [
    "result2['Sales Representative along with Customer name'] = result2.apply(lambda row: row.Sales_Representative + \" / \" + row.Customer_name, axis = 1)\n"
   ]
  },
  {
   "cell_type": "code",
   "execution_count": null,
   "metadata": {},
   "outputs": [],
   "source": [
    "result2"
   ]
  },
  {
   "cell_type": "code",
   "execution_count": null,
   "metadata": {},
   "outputs": [],
   "source": [
    "dfresult = DataFrame(result2,columns=['Sales Representative along with Customer name','Net profit (USD)', 'Gross profit (USD)'])\n",
    "dfresult.plot(x ='Sales Representative along with Customer name', y=['Gross profit (USD)', 'Net profit (USD)'], kind = 'bar', fontsize=16)\n",
    "plt.gcf().set_size_inches((15, 10))\n",
    "plt.rcParams[\"font.weight\"] = \"bold\"\n",
    "plt.rcParams[\"axes.labelweight\"] = \"bold\"\n"
   ]
  },
  {
   "cell_type": "code",
   "execution_count": null,
   "metadata": {},
   "outputs": [],
   "source": [
    "combine.plot.bar(fontsize=20)\n",
    "plt.gcf().set_size_inches((25, 10))\n",
    "plt.legend(fontsize=30) # using a size in points\n",
    "plt.legend(fontsize=\"x-large\") # using a named size\n",
    "plt.rcParams[\"font.weight\"] = \"bold\"\n",
    "plt.rcParams[\"axes.labelweight\"] = \"bold\""
   ]
  },
  {
   "cell_type": "code",
   "execution_count": null,
   "metadata": {},
   "outputs": [],
   "source": [
    "import matplotlib\n",
    "matplotlib.style.use('ggplot')\n",
    "plt.hist(result2['Sales Representative along with Customer name'],bins=30, histtype='step', alpha=1, color='r')\n",
    "plt.xticks(rotation=90)\n",
    "plt.xlabel('Sales Representative along with Customer name')\n",
    "\n",
    "plt.title('Sales Representative along with Customer name', fontsize=30)\n",
    "plt.gcf().set_size_inches((20,15))"
   ]
  },
  {
   "cell_type": "code",
   "execution_count": null,
   "metadata": {},
   "outputs": [],
   "source": [
    "result2['Sales Representative along with Customer name'].hist(bins=20, width = 0.75, color='#0504aa',alpha=0.7)\n",
    "plt.xticks(rotation=90)\n",
    "plt.grid(axis='y', alpha=0.75)\n",
    "plt.xlabel('Customer name w.r.t Sales',fontsize=40)\n",
    "plt.xticks(fontsize=30)\n",
    "plt.yticks(fontsize=30)\n",
    "plt.ylabel('Frequency',fontsize=50)\n",
    "plt.title('2nd Total Calculated value (USD)', fontsize=40)\n",
    "plt.gcf().set_size_inches((50,50))\n",
    "plt.show()\n"
   ]
  },
  {
   "cell_type": "code",
   "execution_count": null,
   "metadata": {
    "scrolled": false
   },
   "outputs": [],
   "source": [
    "result2[result2[\"Sales_Representative\"]==\"Asjad\"][\"Net profit (USD)\"].hist(alpha=1,bins=5,color='r') \n",
    "result2[result2[\"Sales_Representative\"]==\"Uzair\"][\"Net profit (USD)\"].hist(alpha=0.5,bins=20,color='y') \n",
    "result2[result2[\"Sales_Representative\"]==\"Owais\"][\"Net profit (USD)\"].hist(alpha=0.2,bins=20,color='black') \n",
    "result2[result2[\"Sales_Representative\"]==\"Sami\"][\"Net profit (USD)\"].hist(alpha=1,bins=4,color='g') \n",
    "result2[result2[\"Sales_Representative\"]==\"Hina\"][\"Net profit (USD)\"].hist(alpha=1,bins=5,color='brown') \n",
    "plt.legend(['Asjad', 'Uzair', 'Owais', 'Sami', 'Hina'])\n",
    "plt.xlabel('Net profit (USD)', fontsize=20)\n",
    "plt.ylabel('Frequency of Sales Representatives', fontsize=20)\n",
    "plt.title('Sales Representative wise Net profit (USD)', fontsize=20)\n",
    "plt.gcf().set_size_inches((20,20))\n",
    "plt.show()"
   ]
  },
  {
   "cell_type": "code",
   "execution_count": null,
   "metadata": {
    "scrolled": false
   },
   "outputs": [],
   "source": [
    "result2[result2[\"Sales_Representative\"]==\"Asjad\"][\"Net profit (USD)\"].hist(alpha=1,bins=5,color='r',histtype='step') \n",
    "result2[result2[\"Sales_Representative\"]==\"Uzair\"][\"Net profit (USD)\"].hist(alpha=1,bins=20,color='y',histtype='step') \n",
    "result2[result2[\"Sales_Representative\"]==\"Owais\"][\"Net profit (USD)\"].hist(alpha=1,bins=20,color='black',histtype='step') \n",
    "result2[result2[\"Sales_Representative\"]==\"Sami\"][\"Net profit (USD)\"].hist(alpha=1,bins=4,color='g') \n",
    "result2[result2[\"Sales_Representative\"]==\"Hina\"][\"Net profit (USD)\"].hist(alpha=1,bins=5,color='brown') \n",
    "plt.legend(['Asjad', 'Uzair', 'Owais', 'Sami', 'Hina'])\n",
    "plt.xlabel('Net profit (USD)', fontsize=20)\n",
    "plt.ylabel('Frequency of Sales Representatives', fontsize=20)\n",
    "plt.title('Sales Representative wise Net profit (USD)', fontsize=20)\n",
    "plt.gcf().set_size_inches((20,20))\n",
    "plt.show()"
   ]
  },
  {
   "cell_type": "code",
   "execution_count": null,
   "metadata": {},
   "outputs": [],
   "source": [
    "#fig, ax = plt.subplots()  \n",
    "#ax.boxplot([df_owais[\"Net profit (USD)\"],             \n",
    " #                      df_uzair['Net profit (USD)']])  \n",
    "#ax.set_xticklabels(['owais', 'Uzair']) \n",
    "#ax.set_ylabel(\"Net profit (USD)\")  \n",
    "#plt.show() "
   ]
  },
  {
   "cell_type": "code",
   "execution_count": null,
   "metadata": {},
   "outputs": [],
   "source": [
    "class color:\n",
    "   PURPLE = '\\033[95m'\n",
    "   CYAN = '\\033[96m'\n",
    "   DARKCYAN = '\\033[36m'\n",
    "   BLUE = '\\033[94m'\n",
    "   GREEN = '\\033[92m'\n",
    "   YELLOW = '\\033[93m'\n",
    "   RED = '\\033[91m'\n",
    "   BOLD = '\\033[1m'\n",
    "   UNDERLINE = '\\033[4m'\n",
    "   END = '\\033[0m'"
   ]
  },
  {
   "cell_type": "code",
   "execution_count": null,
   "metadata": {},
   "outputs": [],
   "source": [
    "sum1=result2[result2[\"Sales_Representative\"]==\"Asjad\"][\"Net profit (USD)\"].sum()\n",
    "sum2=result2[result2[\"Sales_Representative\"]==\"Uzair\"][\"Net profit (USD)\"].sum()\n",
    "sum3=result2[result2[\"Sales_Representative\"]==\"Owais\"][\"Net profit (USD)\"].sum()\n",
    "sum4=result2[result2[\"Sales_Representative\"]==\"Sami\"][\"Net profit (USD)\"].sum()\n",
    "sum5=result2[result2[\"Sales_Representative\"]==\"Hina\"][\"Net profit (USD)\"].sum()"
   ]
  },
  {
   "cell_type": "code",
   "execution_count": null,
   "metadata": {},
   "outputs": [],
   "source": [
    "print(color.BOLD + 'Total Net profit of Asjad in USD =' + color.END , sum1)\n",
    "print(color.BOLD + 'Total Net profit of Uzair in USD =' + color.END , sum2)\n",
    "print(color.BOLD + 'Total Net profit of Owais in USD =' + color.END , sum3)\n",
    "print(color.BOLD + 'Total Net profit of Sami  in USD =' + color.END , sum4)\n",
    "print(color.BOLD + 'Total Net profit of Hina  in USD =' + color.END , sum5)"
   ]
  },
  {
   "cell_type": "code",
   "execution_count": null,
   "metadata": {},
   "outputs": [],
   "source": [
    "sum12=result2[result2[\"Sales Representative along with Customer name\"]==\"Uzair / NED\"][\"Net profit (USD)\"].sum()\n",
    "sum22=result2[result2[\"Sales Representative along with Customer name\"]==\"Uzair / NBP\"][\"Net profit (USD)\"].sum()\n",
    "sum23=result2[result2[\"Sales Representative along with Customer name\"]==\"Uzair / NBP\"][\"Net profit (USD)\"]\n",
    "sum24=result2[result2[\"Sales Representative along with Customer name\"]==\"Uzair / NED\"][\"Net profit (USD)\"]\n",
    "sum25=result2[result2[\"Sales Representative along with Customer name\"]==\"Uzair / Fast\"][\"Net profit (USD)\"]\n",
    "sum26=result2[result2[\"Sales Representative along with Customer name\"]==\"Uzair / TMB\"][\"Net profit (USD)\"]\n",
    "sum27=result2[result2[\"Sales Representative along with Customer name\"]==\"Uzair / Fossil Energy\"][\"Net profit (USD)\"]"
   ]
  },
  {
   "cell_type": "code",
   "execution_count": null,
   "metadata": {},
   "outputs": [],
   "source": [
    "print(sum12, '\\n')\n",
    "print(sum22, '\\n')\n",
    "print(sum23, '\\n')\n",
    "print(sum24, '\\n')\n",
    "print(sum25, '\\n')\n",
    "print(sum26, '\\n')\n",
    "print(sum27, '\\n')"
   ]
  },
  {
   "cell_type": "code",
   "execution_count": null,
   "metadata": {},
   "outputs": [],
   "source": [
    "sum23.plot( marker='o')\n",
    "plt.xlabel(r'Points of Sale (NBP)' + '\\n', fontsize=15)\n",
    "plt.ylabel(r'Net profit (USD)' + '\\n', fontsize=15)\n",
    "plt.title(r'Number of Sales and Net profit of Uzair according to NBP' + '\\n', fontsize=20, fontweight='bold')\n",
    "plt.gcf().set_size_inches((15,10))"
   ]
  },
  {
   "cell_type": "code",
   "execution_count": null,
   "metadata": {},
   "outputs": [],
   "source": [
    "fig, ax = plt.subplots()\n",
    "ax.plot(sum23, marker='o')\n",
    "ax.plot(sum24, marker='o')\n",
    "ax.plot(sum25, marker='o')\n",
    "ax.plot(sum26, marker='o')\n",
    "ax.plot(sum27, marker='o')\n",
    "plt.xlabel(r'Points of Sale (NBP)' + '\\n', fontsize=15)\n",
    "plt.ylabel(r'Net profit (USD)' + '\\n', fontsize=15)\n",
    "plt.title(r'Number of Sales and Net profit of Uzair' + '\\n', fontsize=20, fontweight='bold')\n",
    "plt.gcf().set_size_inches((15,10))\n",
    "plt.show()"
   ]
  },
  {
   "cell_type": "code",
   "execution_count": null,
   "metadata": {},
   "outputs": [],
   "source": []
  }
 ],
 "metadata": {
  "kernelspec": {
   "display_name": "Python 3",
   "language": "python",
   "name": "python3"
  },
  "language_info": {
   "codemirror_mode": {
    "name": "ipython",
    "version": 3
   },
   "file_extension": ".py",
   "mimetype": "text/x-python",
   "name": "python",
   "nbconvert_exporter": "python",
   "pygments_lexer": "ipython3",
   "version": "3.8.8"
  }
 },
 "nbformat": 4,
 "nbformat_minor": 4
}
